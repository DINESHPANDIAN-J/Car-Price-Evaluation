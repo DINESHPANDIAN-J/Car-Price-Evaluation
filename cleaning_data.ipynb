{
 "cells": [
  {
   "cell_type": "markdown",
   "metadata": {},
   "source": [
    "# **Data Cleaning :**\n",
    "****"
   ]
  },
  {
   "cell_type": "markdown",
   "metadata": {},
   "source": [
    "**Shape of the dataset:**"
   ]
  },
  {
   "cell_type": "code",
   "execution_count": 620,
   "metadata": {},
   "outputs": [
    {
     "data": {
      "text/html": [
       "<div>\n",
       "<style scoped>\n",
       "    .dataframe tbody tr th:only-of-type {\n",
       "        vertical-align: middle;\n",
       "    }\n",
       "\n",
       "    .dataframe tbody tr th {\n",
       "        vertical-align: top;\n",
       "    }\n",
       "\n",
       "    .dataframe thead th {\n",
       "        text-align: right;\n",
       "    }\n",
       "</style>\n",
       "<table border=\"1\" class=\"dataframe\">\n",
       "  <thead>\n",
       "    <tr style=\"text-align: right;\">\n",
       "      <th></th>\n",
       "      <th>it</th>\n",
       "      <th>ft</th>\n",
       "      <th>bt</th>\n",
       "      <th>km</th>\n",
       "      <th>transmission</th>\n",
       "      <th>ownerNo</th>\n",
       "      <th>owner</th>\n",
       "      <th>oem</th>\n",
       "      <th>model</th>\n",
       "      <th>modelYear</th>\n",
       "      <th>...</th>\n",
       "      <th>Front Brake Type</th>\n",
       "      <th>Rear Brake Type</th>\n",
       "      <th>Top Speed</th>\n",
       "      <th>Acceleration</th>\n",
       "      <th>Tyre Type</th>\n",
       "      <th>No Door Numbers</th>\n",
       "      <th>Cargo Volumn</th>\n",
       "      <th>Wheel Size</th>\n",
       "      <th>Alloy Wheel Size</th>\n",
       "      <th>Ground Clearance Unladen</th>\n",
       "    </tr>\n",
       "  </thead>\n",
       "  <tbody>\n",
       "    <tr>\n",
       "      <th>0</th>\n",
       "      <td>0</td>\n",
       "      <td>Petrol</td>\n",
       "      <td>Hatchback</td>\n",
       "      <td>1,20,000</td>\n",
       "      <td>Manual</td>\n",
       "      <td>3</td>\n",
       "      <td>3rd Owner</td>\n",
       "      <td>Maruti</td>\n",
       "      <td>Maruti Celerio</td>\n",
       "      <td>2015</td>\n",
       "      <td>...</td>\n",
       "      <td>Ventilated Disc</td>\n",
       "      <td>Drum</td>\n",
       "      <td>150 Kmph</td>\n",
       "      <td>15.05 Seconds</td>\n",
       "      <td>Tubeless, Radial</td>\n",
       "      <td>5.0</td>\n",
       "      <td>235-litres</td>\n",
       "      <td>NaN</td>\n",
       "      <td>NaN</td>\n",
       "      <td>NaN</td>\n",
       "    </tr>\n",
       "    <tr>\n",
       "      <th>1</th>\n",
       "      <td>0</td>\n",
       "      <td>Petrol</td>\n",
       "      <td>SUV</td>\n",
       "      <td>32,706</td>\n",
       "      <td>Manual</td>\n",
       "      <td>2</td>\n",
       "      <td>2nd Owner</td>\n",
       "      <td>Ford</td>\n",
       "      <td>Ford Ecosport</td>\n",
       "      <td>2018</td>\n",
       "      <td>...</td>\n",
       "      <td>Ventilated Disc</td>\n",
       "      <td>Drum</td>\n",
       "      <td>NaN</td>\n",
       "      <td>NaN</td>\n",
       "      <td>Tubeless,Radial</td>\n",
       "      <td>4.0</td>\n",
       "      <td>352-litres</td>\n",
       "      <td>16</td>\n",
       "      <td>16</td>\n",
       "      <td>NaN</td>\n",
       "    </tr>\n",
       "    <tr>\n",
       "      <th>2</th>\n",
       "      <td>0</td>\n",
       "      <td>Petrol</td>\n",
       "      <td>Hatchback</td>\n",
       "      <td>11,949</td>\n",
       "      <td>Manual</td>\n",
       "      <td>1</td>\n",
       "      <td>1st Owner</td>\n",
       "      <td>Tata</td>\n",
       "      <td>Tata Tiago</td>\n",
       "      <td>2018</td>\n",
       "      <td>...</td>\n",
       "      <td>Disc</td>\n",
       "      <td>Drum</td>\n",
       "      <td>150 kmph</td>\n",
       "      <td>14.3 Seconds</td>\n",
       "      <td>Tubeless</td>\n",
       "      <td>5.0</td>\n",
       "      <td>242-litres</td>\n",
       "      <td>14</td>\n",
       "      <td>14</td>\n",
       "      <td>NaN</td>\n",
       "    </tr>\n",
       "    <tr>\n",
       "      <th>3</th>\n",
       "      <td>0</td>\n",
       "      <td>Petrol</td>\n",
       "      <td>Sedan</td>\n",
       "      <td>17,794</td>\n",
       "      <td>Manual</td>\n",
       "      <td>1</td>\n",
       "      <td>1st Owner</td>\n",
       "      <td>Hyundai</td>\n",
       "      <td>Hyundai Xcent</td>\n",
       "      <td>2014</td>\n",
       "      <td>...</td>\n",
       "      <td>Disc</td>\n",
       "      <td>Drum</td>\n",
       "      <td>172km/hr</td>\n",
       "      <td>14.2 Seconds</td>\n",
       "      <td>Tubeless,Radial</td>\n",
       "      <td>4.0</td>\n",
       "      <td>407-litres</td>\n",
       "      <td>14</td>\n",
       "      <td>14</td>\n",
       "      <td>NaN</td>\n",
       "    </tr>\n",
       "    <tr>\n",
       "      <th>4</th>\n",
       "      <td>0</td>\n",
       "      <td>Diesel</td>\n",
       "      <td>SUV</td>\n",
       "      <td>60,000</td>\n",
       "      <td>Manual</td>\n",
       "      <td>1</td>\n",
       "      <td>1st Owner</td>\n",
       "      <td>Maruti</td>\n",
       "      <td>Maruti SX4 S Cross</td>\n",
       "      <td>2015</td>\n",
       "      <td>...</td>\n",
       "      <td>Ventilated Disc</td>\n",
       "      <td>Solid Disc</td>\n",
       "      <td>190 Kmph</td>\n",
       "      <td>12 Seconds</td>\n",
       "      <td>Tubeless,Radial</td>\n",
       "      <td>5.0</td>\n",
       "      <td>353-litres</td>\n",
       "      <td>16</td>\n",
       "      <td>16</td>\n",
       "      <td>NaN</td>\n",
       "    </tr>\n",
       "    <tr>\n",
       "      <th>...</th>\n",
       "      <td>...</td>\n",
       "      <td>...</td>\n",
       "      <td>...</td>\n",
       "      <td>...</td>\n",
       "      <td>...</td>\n",
       "      <td>...</td>\n",
       "      <td>...</td>\n",
       "      <td>...</td>\n",
       "      <td>...</td>\n",
       "      <td>...</td>\n",
       "      <td>...</td>\n",
       "      <td>...</td>\n",
       "      <td>...</td>\n",
       "      <td>...</td>\n",
       "      <td>...</td>\n",
       "      <td>...</td>\n",
       "      <td>...</td>\n",
       "      <td>...</td>\n",
       "      <td>...</td>\n",
       "      <td>...</td>\n",
       "      <td>...</td>\n",
       "    </tr>\n",
       "    <tr>\n",
       "      <th>8364</th>\n",
       "      <td>0</td>\n",
       "      <td>Petrol</td>\n",
       "      <td>Hatchback</td>\n",
       "      <td>10,000</td>\n",
       "      <td>Manual</td>\n",
       "      <td>1</td>\n",
       "      <td>1st Owner</td>\n",
       "      <td>Maruti</td>\n",
       "      <td>Maruti Celerio</td>\n",
       "      <td>2022</td>\n",
       "      <td>...</td>\n",
       "      <td>Ventilated Disc</td>\n",
       "      <td>Drum</td>\n",
       "      <td>NaN</td>\n",
       "      <td>NaN</td>\n",
       "      <td>Tubeless, Radial</td>\n",
       "      <td>5.0</td>\n",
       "      <td>313</td>\n",
       "      <td>NaN</td>\n",
       "      <td>NaN</td>\n",
       "      <td>NaN</td>\n",
       "    </tr>\n",
       "    <tr>\n",
       "      <th>8365</th>\n",
       "      <td>0</td>\n",
       "      <td>Petrol</td>\n",
       "      <td>Hatchback</td>\n",
       "      <td>1,20,000</td>\n",
       "      <td>Manual</td>\n",
       "      <td>1</td>\n",
       "      <td>1st Owner</td>\n",
       "      <td>Maruti</td>\n",
       "      <td>Maruti Alto 800</td>\n",
       "      <td>2014</td>\n",
       "      <td>...</td>\n",
       "      <td>Solid Disc</td>\n",
       "      <td>Drum</td>\n",
       "      <td>140 kmph</td>\n",
       "      <td>19 Seconds</td>\n",
       "      <td>Tubeless Tyres</td>\n",
       "      <td>5.0</td>\n",
       "      <td>177-litres</td>\n",
       "      <td>NaN</td>\n",
       "      <td>NaN</td>\n",
       "      <td>NaN</td>\n",
       "    </tr>\n",
       "    <tr>\n",
       "      <th>8366</th>\n",
       "      <td>0</td>\n",
       "      <td>Petrol</td>\n",
       "      <td>Sedan</td>\n",
       "      <td>50,000</td>\n",
       "      <td>Automatic</td>\n",
       "      <td>3</td>\n",
       "      <td>3rd Owner</td>\n",
       "      <td>Mercedes-Benz</td>\n",
       "      <td>Mercedes-Benz C-Class</td>\n",
       "      <td>2011</td>\n",
       "      <td>...</td>\n",
       "      <td>Ventilated Disc</td>\n",
       "      <td>Solid Disc</td>\n",
       "      <td>230km/hr</td>\n",
       "      <td>8.8 Seconds</td>\n",
       "      <td>Tubeless,Radial</td>\n",
       "      <td>4.0</td>\n",
       "      <td>475-litres</td>\n",
       "      <td>17</td>\n",
       "      <td>17</td>\n",
       "      <td>NaN</td>\n",
       "    </tr>\n",
       "    <tr>\n",
       "      <th>8367</th>\n",
       "      <td>0</td>\n",
       "      <td>Petrol</td>\n",
       "      <td>Hatchback</td>\n",
       "      <td>40,000</td>\n",
       "      <td>Manual</td>\n",
       "      <td>1</td>\n",
       "      <td>1st Owner</td>\n",
       "      <td>Maruti</td>\n",
       "      <td>Maruti Ritz</td>\n",
       "      <td>2012</td>\n",
       "      <td>...</td>\n",
       "      <td>Ventilated Disc</td>\n",
       "      <td>Drum</td>\n",
       "      <td>156 Kmph</td>\n",
       "      <td>15 Seconds</td>\n",
       "      <td>Tubeless,Radial</td>\n",
       "      <td>5.0</td>\n",
       "      <td>236-liters</td>\n",
       "      <td>14</td>\n",
       "      <td>14</td>\n",
       "      <td>NaN</td>\n",
       "    </tr>\n",
       "    <tr>\n",
       "      <th>8368</th>\n",
       "      <td>0</td>\n",
       "      <td>Diesel</td>\n",
       "      <td>SUV</td>\n",
       "      <td>1,20,000</td>\n",
       "      <td>Manual</td>\n",
       "      <td>2</td>\n",
       "      <td>2nd Owner</td>\n",
       "      <td>Renault</td>\n",
       "      <td>Renault Duster</td>\n",
       "      <td>2017</td>\n",
       "      <td>...</td>\n",
       "      <td>Disc</td>\n",
       "      <td>Drum</td>\n",
       "      <td>168 Kmph</td>\n",
       "      <td>14.20 Seconds</td>\n",
       "      <td>Tubeless,Radial</td>\n",
       "      <td>5.0</td>\n",
       "      <td>410-litres</td>\n",
       "      <td>16</td>\n",
       "      <td>16</td>\n",
       "      <td>NaN</td>\n",
       "    </tr>\n",
       "  </tbody>\n",
       "</table>\n",
       "<p>8369 rows × 66 columns</p>\n",
       "</div>"
      ],
      "text/plain": [
       "      it      ft         bt        km transmission  ownerNo      owner  \\\n",
       "0      0  Petrol  Hatchback  1,20,000       Manual        3  3rd Owner   \n",
       "1      0  Petrol        SUV    32,706       Manual        2  2nd Owner   \n",
       "2      0  Petrol  Hatchback    11,949       Manual        1  1st Owner   \n",
       "3      0  Petrol      Sedan    17,794       Manual        1  1st Owner   \n",
       "4      0  Diesel        SUV    60,000       Manual        1  1st Owner   \n",
       "...   ..     ...        ...       ...          ...      ...        ...   \n",
       "8364   0  Petrol  Hatchback    10,000       Manual        1  1st Owner   \n",
       "8365   0  Petrol  Hatchback  1,20,000       Manual        1  1st Owner   \n",
       "8366   0  Petrol      Sedan    50,000    Automatic        3  3rd Owner   \n",
       "8367   0  Petrol  Hatchback    40,000       Manual        1  1st Owner   \n",
       "8368   0  Diesel        SUV  1,20,000       Manual        2  2nd Owner   \n",
       "\n",
       "                oem                  model  modelYear  ...  Front Brake Type  \\\n",
       "0            Maruti         Maruti Celerio       2015  ...   Ventilated Disc   \n",
       "1              Ford          Ford Ecosport       2018  ...   Ventilated Disc   \n",
       "2              Tata             Tata Tiago       2018  ...              Disc   \n",
       "3           Hyundai          Hyundai Xcent       2014  ...             Disc    \n",
       "4            Maruti     Maruti SX4 S Cross       2015  ...   Ventilated Disc   \n",
       "...             ...                    ...        ...  ...               ...   \n",
       "8364         Maruti         Maruti Celerio       2022  ...   Ventilated Disc   \n",
       "8365         Maruti        Maruti Alto 800       2014  ...        Solid Disc   \n",
       "8366  Mercedes-Benz  Mercedes-Benz C-Class       2011  ...   Ventilated Disc   \n",
       "8367         Maruti            Maruti Ritz       2012  ...   Ventilated Disc   \n",
       "8368        Renault         Renault Duster       2017  ...              Disc   \n",
       "\n",
       "     Rear Brake Type Top Speed   Acceleration         Tyre Type  \\\n",
       "0               Drum  150 Kmph  15.05 Seconds  Tubeless, Radial   \n",
       "1               Drum       NaN            NaN   Tubeless,Radial   \n",
       "2               Drum  150 kmph   14.3 Seconds          Tubeless   \n",
       "3               Drum  172km/hr   14.2 Seconds   Tubeless,Radial   \n",
       "4         Solid Disc  190 Kmph     12 Seconds   Tubeless,Radial   \n",
       "...              ...       ...            ...               ...   \n",
       "8364            Drum       NaN            NaN  Tubeless, Radial   \n",
       "8365            Drum  140 kmph     19 Seconds    Tubeless Tyres   \n",
       "8366      Solid Disc  230km/hr    8.8 Seconds   Tubeless,Radial   \n",
       "8367            Drum  156 Kmph     15 Seconds   Tubeless,Radial   \n",
       "8368            Drum  168 Kmph  14.20 Seconds   Tubeless,Radial   \n",
       "\n",
       "      No Door Numbers Cargo Volumn Wheel Size Alloy Wheel Size  \\\n",
       "0                 5.0   235-litres        NaN              NaN   \n",
       "1                 4.0   352-litres         16               16   \n",
       "2                 5.0   242-litres         14               14   \n",
       "3                 4.0   407-litres         14               14   \n",
       "4                 5.0   353-litres         16               16   \n",
       "...               ...          ...        ...              ...   \n",
       "8364              5.0          313        NaN              NaN   \n",
       "8365              5.0   177-litres        NaN              NaN   \n",
       "8366              4.0   475-litres         17               17   \n",
       "8367              5.0   236-liters         14               14   \n",
       "8368              5.0   410-litres         16               16   \n",
       "\n",
       "     Ground Clearance Unladen  \n",
       "0                         NaN  \n",
       "1                         NaN  \n",
       "2                         NaN  \n",
       "3                         NaN  \n",
       "4                         NaN  \n",
       "...                       ...  \n",
       "8364                      NaN  \n",
       "8365                      NaN  \n",
       "8366                      NaN  \n",
       "8367                      NaN  \n",
       "8368                      NaN  \n",
       "\n",
       "[8369 rows x 66 columns]"
      ]
     },
     "execution_count": 620,
     "metadata": {},
     "output_type": "execute_result"
    }
   ],
   "source": [
    "import warnings\n",
    "warnings.filterwarnings(\"ignore\")\n",
    "import pandas as pd\n",
    "data = pd.read_csv(\"car_dataset.csv\")\n",
    "data"
   ]
  },
  {
   "cell_type": "code",
   "execution_count": 621,
   "metadata": {},
   "outputs": [
    {
     "data": {
      "text/plain": [
       "(8369, 66)"
      ]
     },
     "execution_count": 621,
     "metadata": {},
     "output_type": "execute_result"
    }
   ],
   "source": [
    "data.shape"
   ]
  },
  {
   "cell_type": "code",
   "execution_count": 622,
   "metadata": {},
   "outputs": [
    {
     "name": "stdout",
     "output_type": "stream",
     "text": [
      "<class 'pandas.core.frame.DataFrame'>\n",
      "RangeIndex: 8369 entries, 0 to 8368\n",
      "Data columns (total 66 columns):\n",
      " #   Column                    Non-Null Count  Dtype  \n",
      "---  ------                    --------------  -----  \n",
      " 0   it                        8369 non-null   int64  \n",
      " 1   ft                        8369 non-null   object \n",
      " 2   bt                        8365 non-null   object \n",
      " 3   km                        8369 non-null   object \n",
      " 4   transmission              8369 non-null   object \n",
      " 5   ownerNo                   8369 non-null   int64  \n",
      " 6   owner                     8369 non-null   object \n",
      " 7   oem                       8369 non-null   object \n",
      " 8   model                     8369 non-null   object \n",
      " 9   modelYear                 8369 non-null   int64  \n",
      " 10  centralVariantId          8369 non-null   int64  \n",
      " 11  variantName               8369 non-null   object \n",
      " 12  price                     8369 non-null   object \n",
      " 13  priceActual               1670 non-null   object \n",
      " 14  priceSaving               0 non-null      float64\n",
      " 15  priceFixedText            0 non-null      float64\n",
      " 16  trendingText              8369 non-null   object \n",
      " 17  Registration Year         8317 non-null   object \n",
      " 18  Insurance Validity        8365 non-null   object \n",
      " 19  Fuel Type                 8369 non-null   object \n",
      " 20  Seats                     8363 non-null   float64\n",
      " 21  Kms Driven                8367 non-null   object \n",
      " 22  RTO                       7475 non-null   object \n",
      " 23  Ownership                 8337 non-null   object \n",
      " 24  Engine Displacement       8365 non-null   object \n",
      " 25  Transmission              8369 non-null   object \n",
      " 26  Year of Manufacture       8349 non-null   float64\n",
      " 27  Mileage                   8082 non-null   object \n",
      " 28  Engine                    8365 non-null   object \n",
      " 29  Max Power                 8309 non-null   object \n",
      " 30  Torque                    8309 non-null   object \n",
      " 31  Color                     8366 non-null   object \n",
      " 32  Engine Type               8074 non-null   object \n",
      " 33  Displacement              8365 non-null   float64\n",
      " 34  Max Torque                8309 non-null   object \n",
      " 35  No of Cylinder            8338 non-null   float64\n",
      " 36  Values per Cylinder       8318 non-null   float64\n",
      " 37  Value Configuration       6153 non-null   object \n",
      " 38  Fuel Suppy System         6642 non-null   object \n",
      " 39  BoreX Stroke              2405 non-null   object \n",
      " 40  Compression Ratio         1895 non-null   object \n",
      " 41  Turbo Charger             7329 non-null   object \n",
      " 42  Super Charger             6407 non-null   object \n",
      " 43  Length                    8290 non-null   object \n",
      " 44  Width                     8286 non-null   object \n",
      " 45  Height                    8290 non-null   object \n",
      " 46  Wheel Base                8206 non-null   object \n",
      " 47  Front Tread               4811 non-null   object \n",
      " 48  Rear Tread                4799 non-null   object \n",
      " 49  Kerb Weight               8310 non-null   object \n",
      " 50  Gross Weight              3828 non-null   object \n",
      " 51  Gear Box                  8263 non-null   object \n",
      " 52  Drive Type                6809 non-null   object \n",
      " 53  Seating Capacity          8363 non-null   float64\n",
      " 54  Steering Type             8114 non-null   object \n",
      " 55  Turning Radius            6769 non-null   object \n",
      " 56  Front Brake Type          8273 non-null   object \n",
      " 57  Rear Brake Type           8273 non-null   object \n",
      " 58  Top Speed                 4607 non-null   object \n",
      " 59  Acceleration              4857 non-null   object \n",
      " 60  Tyre Type                 8292 non-null   object \n",
      " 61  No Door Numbers           8358 non-null   float64\n",
      " 62  Cargo Volumn              6776 non-null   object \n",
      " 63  Wheel Size                5386 non-null   object \n",
      " 64  Alloy Wheel Size          5386 non-null   object \n",
      " 65  Ground Clearance Unladen  515 non-null    object \n",
      "dtypes: float64(9), int64(4), object(53)\n",
      "memory usage: 4.2+ MB\n"
     ]
    }
   ],
   "source": [
    "data.info()"
   ]
  },
  {
   "cell_type": "markdown",
   "metadata": {},
   "source": [
    "- **`Grouping categorical and numerical columns to make data processing easier:`**\n",
    "****"
   ]
  },
  {
   "cell_type": "code",
   "execution_count": 623,
   "metadata": {},
   "outputs": [
    {
     "name": "stdout",
     "output_type": "stream",
     "text": [
      "categorical columns:\n",
      " ['ft', 'bt', 'km', 'transmission', 'owner', 'oem', 'model', 'variantName', 'price', 'priceActual', 'trendingText', 'Registration Year', 'Insurance Validity', 'Fuel Type', 'Kms Driven', 'RTO', 'Ownership', 'Engine Displacement', 'Transmission', 'Mileage', 'Engine', 'Max Power', 'Torque', 'Color', 'Engine Type', 'Max Torque', 'Value Configuration', 'Fuel Suppy System', 'BoreX Stroke', 'Compression Ratio', 'Turbo Charger', 'Super Charger', 'Length', 'Width', 'Height', 'Wheel Base', 'Front Tread', 'Rear Tread', 'Kerb Weight', 'Gross Weight', 'Gear Box', 'Drive Type', 'Steering Type', 'Turning Radius', 'Front Brake Type', 'Rear Brake Type', 'Top Speed', 'Acceleration', 'Tyre Type', 'Cargo Volumn', 'Wheel Size', 'Alloy Wheel Size', 'Ground Clearance Unladen'] \n",
      "\n",
      " Numerical columns:\n",
      " ['it', 'ownerNo', 'modelYear', 'centralVariantId', 'priceSaving', 'priceFixedText', 'Seats', 'Year of Manufacture', 'Displacement', 'No of Cylinder', 'Values per Cylinder', 'Seating Capacity', 'No Door Numbers']\n"
     ]
    }
   ],
   "source": [
    "categorical_columns = [column for column in data.columns if data[column].dtype == \"object\"]\n",
    "numerical_columns = [column for column in data.columns if data[column].dtype != \"object\"]\n",
    "\n",
    "print(\"categorical columns:\\n\", categorical_columns, \"\\n\\n Numerical columns:\\n\", numerical_columns)"
   ]
  },
  {
   "cell_type": "markdown",
   "metadata": {},
   "source": [
    "# **Cleaning on each categorical column**\n",
    "****"
   ]
  },
  {
   "cell_type": "markdown",
   "metadata": {},
   "source": [
    "****\n",
    "**`column: 'it'`**"
   ]
  },
  {
   "cell_type": "code",
   "execution_count": 624,
   "metadata": {},
   "outputs": [
    {
     "data": {
      "text/plain": [
       "it\n",
       "0    8369\n",
       "Name: count, dtype: int64"
      ]
     },
     "execution_count": 624,
     "metadata": {},
     "output_type": "execute_result"
    }
   ],
   "source": [
    "data['it'].value_counts()"
   ]
  },
  {
   "cell_type": "markdown",
   "metadata": {},
   "source": [
    "Column \"it\" having the same value throughout the dataset. so that we can neglect it."
   ]
  },
  {
   "cell_type": "code",
   "execution_count": 625,
   "metadata": {},
   "outputs": [],
   "source": [
    "data.drop(columns=['it'], inplace=True)"
   ]
  },
  {
   "cell_type": "markdown",
   "metadata": {},
   "source": [
    "****\n",
    "**`column:\"bt\"`**"
   ]
  },
  {
   "cell_type": "code",
   "execution_count": 626,
   "metadata": {},
   "outputs": [
    {
     "data": {
      "text/plain": [
       "Build Type\n",
       "Hatchback        3567\n",
       "SUV              2225\n",
       "Sedan            2174\n",
       "MUV               352\n",
       "Minivans           23\n",
       "Coupe              10\n",
       "Pickup Trucks       6\n",
       "Convertibles        6\n",
       "Hybrids             1\n",
       "Wagon               1\n",
       "Name: count, dtype: int64"
      ]
     },
     "execution_count": 626,
     "metadata": {},
     "output_type": "execute_result"
    }
   ],
   "source": [
    "# renaming column 'bt' to 'Build Type'\n",
    "data.rename(columns={'bt':'Build Type'}, inplace=True)\n",
    "\n",
    "data['Build Type'].value_counts()"
   ]
  },
  {
   "cell_type": "markdown",
   "metadata": {},
   "source": [
    "****\n",
    "**`Column :Fuel Type`**\n",
    "\n",
    "- Column `ft` and `Fuel Type` both are representing the fuel type. so we can remove `column 'ft'` to reduce dimensionality."
   ]
  },
  {
   "cell_type": "code",
   "execution_count": 627,
   "metadata": {},
   "outputs": [],
   "source": [
    "# Rename the column for better readability.\n",
    "data.drop(columns=['ft'], inplace=True)"
   ]
  },
  {
   "cell_type": "code",
   "execution_count": 628,
   "metadata": {},
   "outputs": [
    {
     "data": {
      "image/png": "[encoded data removed]",
      "text/plain": [
       "<Figure size 640x480 with 1 Axes>"
      ]
     },
     "metadata": {},
     "output_type": "display_data"
    }
   ],
   "source": [
    "import seaborn as sns\n",
    "import matplotlib.pyplot as plt\n",
    "\n",
    "ax = sns.countplot(data=data, x='Fuel Type', palette='coolwarm')  # Customizing the color palette\n",
    "\n",
    "# Adding counts on top of each bar\n",
    "for p in ax.patches:\n",
    "    ax.annotate(f'{p.get_height()}', (p.get_x() + p.get_width() / 2., p.get_height()),\n",
    "                ha='center', va='center', fontsize=11, color='darkblue', xytext=(0, 5),\n",
    "                textcoords='offset points')\n",
    "\n",
    "plt.show()\n"
   ]
  },
  {
   "cell_type": "markdown",
   "metadata": {},
   "source": [
    "****\n",
    "**`Column:'Km'`**\n",
    "- Changing the column name `km` to `Kilo Meter` for better readability.\n",
    "- All the values are numerical. so changing the data type to int."
   ]
  },
  {
   "cell_type": "code",
   "execution_count": 629,
   "metadata": {},
   "outputs": [],
   "source": [
    "# renaming column 'bt' to 'Build Type'\n",
    "data.rename(columns={'km':'Kilo Meter'}, inplace=True)"
   ]
  },
  {
   "cell_type": "code",
   "execution_count": 630,
   "metadata": {},
   "outputs": [],
   "source": [
    "# changing data type to int.\n",
    "data['Kilo Meter'] = data['Kilo Meter'].str.replace(',', '').astype(int)"
   ]
  },
  {
   "cell_type": "markdown",
   "metadata": {},
   "source": [
    "****\n",
    "**`Column:'Transmission'`**\n",
    "- There were Two Transmission columns. So dropping the 'transmission' from the dataset."
   ]
  },
  {
   "cell_type": "code",
   "execution_count": 631,
   "metadata": {},
   "outputs": [
    {
     "data": {
      "text/plain": [
       "Transmission\n",
       "Manual       6052\n",
       "Automatic    2317\n",
       "Name: count, dtype: int64"
      ]
     },
     "execution_count": 631,
     "metadata": {},
     "output_type": "execute_result"
    }
   ],
   "source": [
    "# Dropping the 'transmission' column.\n",
    "data.drop(columns=['transmission'], inplace=True)\n",
    "\n",
    "data['Transmission'].value_counts()"
   ]
  },
  {
   "cell_type": "markdown",
   "metadata": {},
   "source": [
    "****\n",
    "**`Column: 'owner'`**\n",
    "- Already having column `owner No` so droping the column `owner`."
   ]
  },
  {
   "cell_type": "code",
   "execution_count": 632,
   "metadata": {},
   "outputs": [],
   "source": [
    "# Dropping the 'owner' column.\n",
    "data.drop(columns=['owner'], inplace=True)"
   ]
  },
  {
   "cell_type": "markdown",
   "metadata": {},
   "source": [
    "****\n",
    "**`Column: 'oem'`**"
   ]
  },
  {
   "cell_type": "code",
   "execution_count": 633,
   "metadata": {},
   "outputs": [],
   "source": [
    "# Renaming column\n",
    "data.rename(columns={'oem': 'OEM'}, inplace=True)"
   ]
  },
  {
   "cell_type": "markdown",
   "metadata": {},
   "source": [
    "****\n",
    "**`Columns : 'model' & 'variantName'`**\n",
    "- Renaming columns for better readability."
   ]
  },
  {
   "cell_type": "code",
   "execution_count": 634,
   "metadata": {},
   "outputs": [],
   "source": [
    "data.rename(columns={'model': 'Model', 'variantName':'Variant Name'}, inplace=True)"
   ]
  },
  {
   "cell_type": "markdown",
   "metadata": {},
   "source": [
    "****\n",
    "**`Column : price`**\n",
    "- Column `price` in object datatype. need to change 'float'. "
   ]
  },
  {
   "cell_type": "code",
   "execution_count": 635,
   "metadata": {},
   "outputs": [],
   "source": [
    "# Extract numerical values using regular expressions\n",
    "data['price'] = data['price'].str.extract(r'₹ ([\\d.]+) Lakh').astype(float)"
   ]
  },
  {
   "cell_type": "code",
   "execution_count": 636,
   "metadata": {},
   "outputs": [
    {
     "data": {
      "text/html": [
       "<div>\n",
       "<style scoped>\n",
       "    .dataframe tbody tr th:only-of-type {\n",
       "        vertical-align: middle;\n",
       "    }\n",
       "\n",
       "    .dataframe tbody tr th {\n",
       "        vertical-align: top;\n",
       "    }\n",
       "\n",
       "    .dataframe thead th {\n",
       "        text-align: right;\n",
       "    }\n",
       "</style>\n",
       "<table border=\"1\" class=\"dataframe\">\n",
       "  <thead>\n",
       "    <tr style=\"text-align: right;\">\n",
       "      <th></th>\n",
       "      <th>Build Type</th>\n",
       "      <th>Kilo Meter</th>\n",
       "      <th>ownerNo</th>\n",
       "      <th>OEM</th>\n",
       "      <th>Model</th>\n",
       "      <th>modelYear</th>\n",
       "      <th>centralVariantId</th>\n",
       "      <th>Variant Name</th>\n",
       "      <th>Price</th>\n",
       "      <th>priceActual</th>\n",
       "      <th>...</th>\n",
       "      <th>Front Brake Type</th>\n",
       "      <th>Rear Brake Type</th>\n",
       "      <th>Top Speed</th>\n",
       "      <th>Acceleration</th>\n",
       "      <th>Tyre Type</th>\n",
       "      <th>No Door Numbers</th>\n",
       "      <th>Cargo Volumn</th>\n",
       "      <th>Wheel Size</th>\n",
       "      <th>Alloy Wheel Size</th>\n",
       "      <th>Ground Clearance Unladen</th>\n",
       "    </tr>\n",
       "  </thead>\n",
       "  <tbody>\n",
       "    <tr>\n",
       "      <th>0</th>\n",
       "      <td>Hatchback</td>\n",
       "      <td>120000</td>\n",
       "      <td>3</td>\n",
       "      <td>Maruti</td>\n",
       "      <td>Maruti Celerio</td>\n",
       "      <td>2015</td>\n",
       "      <td>3979</td>\n",
       "      <td>VXI</td>\n",
       "      <td>4.00</td>\n",
       "      <td>NaN</td>\n",
       "      <td>...</td>\n",
       "      <td>Ventilated Disc</td>\n",
       "      <td>Drum</td>\n",
       "      <td>150 Kmph</td>\n",
       "      <td>15.05 Seconds</td>\n",
       "      <td>Tubeless, Radial</td>\n",
       "      <td>5.0</td>\n",
       "      <td>235-litres</td>\n",
       "      <td>NaN</td>\n",
       "      <td>NaN</td>\n",
       "      <td>NaN</td>\n",
       "    </tr>\n",
       "    <tr>\n",
       "      <th>1</th>\n",
       "      <td>SUV</td>\n",
       "      <td>32706</td>\n",
       "      <td>2</td>\n",
       "      <td>Ford</td>\n",
       "      <td>Ford Ecosport</td>\n",
       "      <td>2018</td>\n",
       "      <td>6087</td>\n",
       "      <td>1.5 Petrol Titanium BSIV</td>\n",
       "      <td>8.11</td>\n",
       "      <td>NaN</td>\n",
       "      <td>...</td>\n",
       "      <td>Ventilated Disc</td>\n",
       "      <td>Drum</td>\n",
       "      <td>NaN</td>\n",
       "      <td>NaN</td>\n",
       "      <td>Tubeless,Radial</td>\n",
       "      <td>4.0</td>\n",
       "      <td>352-litres</td>\n",
       "      <td>16</td>\n",
       "      <td>16</td>\n",
       "      <td>NaN</td>\n",
       "    </tr>\n",
       "    <tr>\n",
       "      <th>2</th>\n",
       "      <td>Hatchback</td>\n",
       "      <td>11949</td>\n",
       "      <td>1</td>\n",
       "      <td>Tata</td>\n",
       "      <td>Tata Tiago</td>\n",
       "      <td>2018</td>\n",
       "      <td>2983</td>\n",
       "      <td>1.2 Revotron XZ</td>\n",
       "      <td>5.85</td>\n",
       "      <td>NaN</td>\n",
       "      <td>...</td>\n",
       "      <td>Disc</td>\n",
       "      <td>Drum</td>\n",
       "      <td>150 kmph</td>\n",
       "      <td>14.3 Seconds</td>\n",
       "      <td>Tubeless</td>\n",
       "      <td>5.0</td>\n",
       "      <td>242-litres</td>\n",
       "      <td>14</td>\n",
       "      <td>14</td>\n",
       "      <td>NaN</td>\n",
       "    </tr>\n",
       "    <tr>\n",
       "      <th>3</th>\n",
       "      <td>Sedan</td>\n",
       "      <td>17794</td>\n",
       "      <td>1</td>\n",
       "      <td>Hyundai</td>\n",
       "      <td>Hyundai Xcent</td>\n",
       "      <td>2014</td>\n",
       "      <td>1867</td>\n",
       "      <td>1.2 Kappa S Option</td>\n",
       "      <td>4.62</td>\n",
       "      <td>NaN</td>\n",
       "      <td>...</td>\n",
       "      <td>Disc</td>\n",
       "      <td>Drum</td>\n",
       "      <td>172km/hr</td>\n",
       "      <td>14.2 Seconds</td>\n",
       "      <td>Tubeless,Radial</td>\n",
       "      <td>4.0</td>\n",
       "      <td>407-litres</td>\n",
       "      <td>14</td>\n",
       "      <td>14</td>\n",
       "      <td>NaN</td>\n",
       "    </tr>\n",
       "    <tr>\n",
       "      <th>4</th>\n",
       "      <td>SUV</td>\n",
       "      <td>60000</td>\n",
       "      <td>1</td>\n",
       "      <td>Maruti</td>\n",
       "      <td>Maruti SX4 S Cross</td>\n",
       "      <td>2015</td>\n",
       "      <td>4277</td>\n",
       "      <td>DDiS 200 Zeta</td>\n",
       "      <td>7.90</td>\n",
       "      <td>NaN</td>\n",
       "      <td>...</td>\n",
       "      <td>Ventilated Disc</td>\n",
       "      <td>Solid Disc</td>\n",
       "      <td>190 Kmph</td>\n",
       "      <td>12 Seconds</td>\n",
       "      <td>Tubeless,Radial</td>\n",
       "      <td>5.0</td>\n",
       "      <td>353-litres</td>\n",
       "      <td>16</td>\n",
       "      <td>16</td>\n",
       "      <td>NaN</td>\n",
       "    </tr>\n",
       "    <tr>\n",
       "      <th>...</th>\n",
       "      <td>...</td>\n",
       "      <td>...</td>\n",
       "      <td>...</td>\n",
       "      <td>...</td>\n",
       "      <td>...</td>\n",
       "      <td>...</td>\n",
       "      <td>...</td>\n",
       "      <td>...</td>\n",
       "      <td>...</td>\n",
       "      <td>...</td>\n",
       "      <td>...</td>\n",
       "      <td>...</td>\n",
       "      <td>...</td>\n",
       "      <td>...</td>\n",
       "      <td>...</td>\n",
       "      <td>...</td>\n",
       "      <td>...</td>\n",
       "      <td>...</td>\n",
       "      <td>...</td>\n",
       "      <td>...</td>\n",
       "      <td>...</td>\n",
       "    </tr>\n",
       "    <tr>\n",
       "      <th>8364</th>\n",
       "      <td>Hatchback</td>\n",
       "      <td>10000</td>\n",
       "      <td>1</td>\n",
       "      <td>Maruti</td>\n",
       "      <td>Maruti Celerio</td>\n",
       "      <td>2022</td>\n",
       "      <td>8682</td>\n",
       "      <td>ZXI BSVI</td>\n",
       "      <td>5.10</td>\n",
       "      <td>NaN</td>\n",
       "      <td>...</td>\n",
       "      <td>Ventilated Disc</td>\n",
       "      <td>Drum</td>\n",
       "      <td>NaN</td>\n",
       "      <td>NaN</td>\n",
       "      <td>Tubeless, Radial</td>\n",
       "      <td>5.0</td>\n",
       "      <td>313</td>\n",
       "      <td>NaN</td>\n",
       "      <td>NaN</td>\n",
       "      <td>NaN</td>\n",
       "    </tr>\n",
       "    <tr>\n",
       "      <th>8365</th>\n",
       "      <td>Hatchback</td>\n",
       "      <td>120000</td>\n",
       "      <td>1</td>\n",
       "      <td>Maruti</td>\n",
       "      <td>Maruti Alto 800</td>\n",
       "      <td>2014</td>\n",
       "      <td>3943</td>\n",
       "      <td>LXI</td>\n",
       "      <td>1.80</td>\n",
       "      <td>NaN</td>\n",
       "      <td>...</td>\n",
       "      <td>Solid Disc</td>\n",
       "      <td>Drum</td>\n",
       "      <td>140 kmph</td>\n",
       "      <td>19 Seconds</td>\n",
       "      <td>Tubeless Tyres</td>\n",
       "      <td>5.0</td>\n",
       "      <td>177-litres</td>\n",
       "      <td>NaN</td>\n",
       "      <td>NaN</td>\n",
       "      <td>NaN</td>\n",
       "    </tr>\n",
       "    <tr>\n",
       "      <th>8366</th>\n",
       "      <td>Sedan</td>\n",
       "      <td>50000</td>\n",
       "      <td>3</td>\n",
       "      <td>Mercedes-Benz</td>\n",
       "      <td>Mercedes-Benz C-Class</td>\n",
       "      <td>2011</td>\n",
       "      <td>4672</td>\n",
       "      <td>C 200 CGI Elegance</td>\n",
       "      <td>5.50</td>\n",
       "      <td>NaN</td>\n",
       "      <td>...</td>\n",
       "      <td>Ventilated Disc</td>\n",
       "      <td>Solid Disc</td>\n",
       "      <td>230km/hr</td>\n",
       "      <td>8.8 Seconds</td>\n",
       "      <td>Tubeless,Radial</td>\n",
       "      <td>4.0</td>\n",
       "      <td>475-litres</td>\n",
       "      <td>17</td>\n",
       "      <td>17</td>\n",
       "      <td>NaN</td>\n",
       "    </tr>\n",
       "    <tr>\n",
       "      <th>8367</th>\n",
       "      <td>Hatchback</td>\n",
       "      <td>40000</td>\n",
       "      <td>1</td>\n",
       "      <td>Maruti</td>\n",
       "      <td>Maruti Ritz</td>\n",
       "      <td>2012</td>\n",
       "      <td>4144</td>\n",
       "      <td>ZXi</td>\n",
       "      <td>1.40</td>\n",
       "      <td>NaN</td>\n",
       "      <td>...</td>\n",
       "      <td>Ventilated Disc</td>\n",
       "      <td>Drum</td>\n",
       "      <td>156 Kmph</td>\n",
       "      <td>15 Seconds</td>\n",
       "      <td>Tubeless,Radial</td>\n",
       "      <td>5.0</td>\n",
       "      <td>236-liters</td>\n",
       "      <td>14</td>\n",
       "      <td>14</td>\n",
       "      <td>NaN</td>\n",
       "    </tr>\n",
       "    <tr>\n",
       "      <th>8368</th>\n",
       "      <td>SUV</td>\n",
       "      <td>120000</td>\n",
       "      <td>2</td>\n",
       "      <td>Renault</td>\n",
       "      <td>Renault Duster</td>\n",
       "      <td>2017</td>\n",
       "      <td>5048</td>\n",
       "      <td>110PS Diesel RxZ AWD</td>\n",
       "      <td>5.00</td>\n",
       "      <td>NaN</td>\n",
       "      <td>...</td>\n",
       "      <td>Disc</td>\n",
       "      <td>Drum</td>\n",
       "      <td>168 Kmph</td>\n",
       "      <td>14.20 Seconds</td>\n",
       "      <td>Tubeless,Radial</td>\n",
       "      <td>5.0</td>\n",
       "      <td>410-litres</td>\n",
       "      <td>16</td>\n",
       "      <td>16</td>\n",
       "      <td>NaN</td>\n",
       "    </tr>\n",
       "  </tbody>\n",
       "</table>\n",
       "<p>8369 rows × 62 columns</p>\n",
       "</div>"
      ],
      "text/plain": [
       "     Build Type  Kilo Meter  ownerNo            OEM                  Model  \\\n",
       "0     Hatchback      120000        3         Maruti         Maruti Celerio   \n",
       "1           SUV       32706        2           Ford          Ford Ecosport   \n",
       "2     Hatchback       11949        1           Tata             Tata Tiago   \n",
       "3         Sedan       17794        1        Hyundai          Hyundai Xcent   \n",
       "4           SUV       60000        1         Maruti     Maruti SX4 S Cross   \n",
       "...         ...         ...      ...            ...                    ...   \n",
       "8364  Hatchback       10000        1         Maruti         Maruti Celerio   \n",
       "8365  Hatchback      120000        1         Maruti        Maruti Alto 800   \n",
       "8366      Sedan       50000        3  Mercedes-Benz  Mercedes-Benz C-Class   \n",
       "8367  Hatchback       40000        1         Maruti            Maruti Ritz   \n",
       "8368        SUV      120000        2        Renault         Renault Duster   \n",
       "\n",
       "      modelYear  centralVariantId              Variant Name  Price  \\\n",
       "0          2015              3979                       VXI   4.00   \n",
       "1          2018              6087  1.5 Petrol Titanium BSIV   8.11   \n",
       "2          2018              2983           1.2 Revotron XZ   5.85   \n",
       "3          2014              1867        1.2 Kappa S Option   4.62   \n",
       "4          2015              4277             DDiS 200 Zeta   7.90   \n",
       "...         ...               ...                       ...    ...   \n",
       "8364       2022              8682                  ZXI BSVI   5.10   \n",
       "8365       2014              3943                       LXI   1.80   \n",
       "8366       2011              4672        C 200 CGI Elegance   5.50   \n",
       "8367       2012              4144                       ZXi   1.40   \n",
       "8368       2017              5048      110PS Diesel RxZ AWD   5.00   \n",
       "\n",
       "     priceActual  ...  Front Brake Type  Rear Brake Type Top Speed  \\\n",
       "0            NaN  ...   Ventilated Disc             Drum  150 Kmph   \n",
       "1            NaN  ...   Ventilated Disc             Drum       NaN   \n",
       "2            NaN  ...              Disc             Drum  150 kmph   \n",
       "3            NaN  ...             Disc              Drum  172km/hr   \n",
       "4            NaN  ...   Ventilated Disc       Solid Disc  190 Kmph   \n",
       "...          ...  ...               ...              ...       ...   \n",
       "8364         NaN  ...   Ventilated Disc             Drum       NaN   \n",
       "8365         NaN  ...        Solid Disc             Drum  140 kmph   \n",
       "8366         NaN  ...   Ventilated Disc       Solid Disc  230km/hr   \n",
       "8367         NaN  ...   Ventilated Disc             Drum  156 Kmph   \n",
       "8368         NaN  ...              Disc             Drum  168 Kmph   \n",
       "\n",
       "       Acceleration         Tyre Type No Door Numbers  Cargo Volumn  \\\n",
       "0     15.05 Seconds  Tubeless, Radial             5.0    235-litres   \n",
       "1               NaN   Tubeless,Radial             4.0    352-litres   \n",
       "2      14.3 Seconds          Tubeless             5.0    242-litres   \n",
       "3      14.2 Seconds   Tubeless,Radial             4.0    407-litres   \n",
       "4        12 Seconds   Tubeless,Radial             5.0    353-litres   \n",
       "...             ...               ...             ...           ...   \n",
       "8364            NaN  Tubeless, Radial             5.0           313   \n",
       "8365     19 Seconds    Tubeless Tyres             5.0    177-litres   \n",
       "8366    8.8 Seconds   Tubeless,Radial             4.0    475-litres   \n",
       "8367     15 Seconds   Tubeless,Radial             5.0    236-liters   \n",
       "8368  14.20 Seconds   Tubeless,Radial             5.0    410-litres   \n",
       "\n",
       "     Wheel Size Alloy Wheel Size Ground Clearance Unladen  \n",
       "0           NaN              NaN                      NaN  \n",
       "1            16               16                      NaN  \n",
       "2            14               14                      NaN  \n",
       "3            14               14                      NaN  \n",
       "4            16               16                      NaN  \n",
       "...         ...              ...                      ...  \n",
       "8364        NaN              NaN                      NaN  \n",
       "8365        NaN              NaN                      NaN  \n",
       "8366         17               17                      NaN  \n",
       "8367         14               14                      NaN  \n",
       "8368         16               16                      NaN  \n",
       "\n",
       "[8369 rows x 62 columns]"
      ]
     },
     "execution_count": 636,
     "metadata": {},
     "output_type": "execute_result"
    }
   ],
   "source": [
    "# rename column \n",
    "data.rename(columns={'price':'Price'})"
   ]
  },
  {
   "cell_type": "markdown",
   "metadata": {},
   "source": [
    "****\n",
    "**`COlumn : priceActual`**\n",
    "- Getting numerical values by regular expression."
   ]
  },
  {
   "cell_type": "code",
   "execution_count": 637,
   "metadata": {},
   "outputs": [],
   "source": [
    "data['priceActual'] = data['priceActual'].str.extract(r'₹ ([\\d.]+) Lakh').astype(float)"
   ]
  },
  {
   "cell_type": "code",
   "execution_count": 638,
   "metadata": {},
   "outputs": [],
   "source": [
    "data.rename(columns={'priceActual':'PriceActual'},inplace=True)"
   ]
  },
  {
   "cell_type": "markdown",
   "metadata": {},
   "source": [
    "****\n",
    "**`Column:trendingText`**\n",
    "- Droping the trendingText column to reduce dimensionality."
   ]
  },
  {
   "cell_type": "code",
   "execution_count": 639,
   "metadata": {},
   "outputs": [],
   "source": [
    "data.drop(columns=['trendingText'],inplace=True)"
   ]
  },
  {
   "cell_type": "markdown",
   "metadata": {},
   "source": [
    "****\n",
    "**`Column: Registration Year`**\n",
    "- `Registration Year` will have a impact on the car valuation.\n",
    "- Gong to drop the rows whose Registration Year value is null.\n",
    "- The Column contains Alpha numeric so that getting only the number of registrations and the converted to `int` data type."
   ]
  },
  {
   "cell_type": "code",
   "execution_count": 640,
   "metadata": {},
   "outputs": [
    {
     "name": "stdout",
     "output_type": "stream",
     "text": [
      "Registration Year has 52 values before cleaning up.\n",
      "Registration Year has 0 values after cleaning up.\n"
     ]
    }
   ],
   "source": [
    "Reg_yr_null_values = data['Registration Year'].isnull().sum()\n",
    "print(f\"Registration Year has {Reg_yr_null_values} values before cleaning up.\")\n",
    "\n",
    "data = data.dropna(subset=['Registration Year'])\n",
    "print(f\"Registration Year has {data['Registration Year'].isnull().sum()} values after cleaning up.\")"
   ]
  },
  {
   "cell_type": "code",
   "execution_count": 641,
   "metadata": {},
   "outputs": [],
   "source": [
    "# Getting only the numeric values and converted to \"int\" datatype.\n",
    "data['Registration Year'] = data['Registration Year'].str.extract(r'(\\d+)').astype(int)"
   ]
  },
  {
   "cell_type": "markdown",
   "metadata": {},
   "source": [
    "****\n",
    "**`Column: Insurance Validity`**\n",
    "- Checking for NUll Values and gonna drop all the rows having null `Insurance Validity` values."
   ]
  },
  {
   "cell_type": "code",
   "execution_count": 642,
   "metadata": {},
   "outputs": [
    {
     "data": {
      "text/plain": [
       "4"
      ]
     },
     "execution_count": 642,
     "metadata": {},
     "output_type": "execute_result"
    }
   ],
   "source": [
    "data['Insurance Validity'].isnull().sum()"
   ]
  },
  {
   "cell_type": "code",
   "execution_count": 643,
   "metadata": {},
   "outputs": [
    {
     "data": {
      "text/plain": [
       "(8313, 61)"
      ]
     },
     "execution_count": 643,
     "metadata": {},
     "output_type": "execute_result"
    }
   ],
   "source": [
    "data = data.dropna(subset=['Insurance Validity'])\n",
    "data.shape"
   ]
  },
  {
   "cell_type": "code",
   "execution_count": 644,
   "metadata": {},
   "outputs": [
    {
     "data": {
      "text/plain": [
       "Insurance Validity\n",
       "Third Party insurance    4013\n",
       "Comprehensive            3143\n",
       "Third Party               628\n",
       "Zero Dep                  303\n",
       "Not Available             222\n",
       "1                           3\n",
       "2                           1\n",
       "Name: count, dtype: int64"
      ]
     },
     "execution_count": 644,
     "metadata": {},
     "output_type": "execute_result"
    }
   ],
   "source": [
    "data['Insurance Validity'].value_counts()"
   ]
  },
  {
   "cell_type": "markdown",
   "metadata": {},
   "source": [
    "- `Insurance Validity` has value `1` and `2` not having clear information so gonna drop all the rows having those values.\n",
    "****"
   ]
  },
  {
   "cell_type": "code",
   "execution_count": 645,
   "metadata": {},
   "outputs": [],
   "source": [
    "data = data[~data['Insurance Validity'].isin(['1', '2'])]\n"
   ]
  },
  {
   "cell_type": "markdown",
   "metadata": {},
   "source": [
    "****\n",
    "**`Column: Kms Driven`**\n",
    "- The Column 'Kilo Meter' has already covered this data so that we can drop."
   ]
  },
  {
   "cell_type": "code",
   "execution_count": 646,
   "metadata": {},
   "outputs": [],
   "source": [
    "data.drop(columns=['Kms Driven'], inplace=True)"
   ]
  },
  {
   "cell_type": "markdown",
   "metadata": {},
   "source": [
    "****\n",
    "**`Column : RTO`**"
   ]
  },
  {
   "cell_type": "code",
   "execution_count": 647,
   "metadata": {},
   "outputs": [
    {
     "data": {
      "text/plain": [
       "857"
      ]
     },
     "execution_count": 647,
     "metadata": {},
     "output_type": "execute_result"
    }
   ],
   "source": [
    "data['RTO'].isnull().sum()"
   ]
  },
  {
   "cell_type": "markdown",
   "metadata": {},
   "source": [
    "- Column `RTO` has 857 null values and I dont think it will have more impact on car valuation so we can drop."
   ]
  },
  {
   "cell_type": "code",
   "execution_count": 648,
   "metadata": {},
   "outputs": [],
   "source": [
    "data.drop(columns=['RTO'], inplace=True)"
   ]
  },
  {
   "cell_type": "markdown",
   "metadata": {},
   "source": [
    "****\n",
    "**`Column : Ownership`**\n",
    "- Column 'OwnerNo' has already cover this data.\n",
    "- So that we can drop this column."
   ]
  },
  {
   "cell_type": "code",
   "execution_count": 649,
   "metadata": {},
   "outputs": [],
   "source": [
    "data.drop(columns=['Ownership'], inplace=True)"
   ]
  },
  {
   "cell_type": "markdown",
   "metadata": {},
   "source": [
    "****\n",
    "**`Column : Engine Displacement`**\n",
    "- Engine displacement has values with its unit 'CC'.\n",
    "- Extracting only numeric."
   ]
  },
  {
   "cell_type": "code",
   "execution_count": 650,
   "metadata": {},
   "outputs": [
    {
     "data": {
      "text/plain": [
       "Engine Displacement\n",
       "1197 cc    1602\n",
       "998 cc      636\n",
       "1199 cc     486\n",
       "1497 cc     448\n",
       "1248 cc     422\n",
       "           ... \n",
       "3597 cc       1\n",
       "2200 cc       1\n",
       "1108 cc       1\n",
       "2997 cc       1\n",
       "2489 cc       1\n",
       "Name: count, Length: 146, dtype: int64"
      ]
     },
     "execution_count": 650,
     "metadata": {},
     "output_type": "execute_result"
    }
   ],
   "source": [
    "data['Engine Displacement'].value_counts()"
   ]
  },
  {
   "cell_type": "code",
   "execution_count": 651,
   "metadata": {},
   "outputs": [
    {
     "name": "stdout",
     "output_type": "stream",
     "text": [
      "Engine Displacement has 2 Null values\n"
     ]
    }
   ],
   "source": [
    "print(f\"Engine Displacement has {data['Engine Displacement'].isnull().sum()} Null values\")"
   ]
  },
  {
   "cell_type": "code",
   "execution_count": 652,
   "metadata": {},
   "outputs": [],
   "source": [
    "# Droping null values.\n",
    "data= data.dropna(subset=['Engine Displacement'])\n",
    "data['Engine Displacement'] = data['Engine Displacement'].str.extract(r'(\\d+)').astype(int)"
   ]
  },
  {
   "cell_type": "markdown",
   "metadata": {},
   "source": [
    "****\n",
    "**`Column : Year of Manufacture`**\n",
    "- Want to get the values and change to datatype 'int'."
   ]
  },
  {
   "cell_type": "code",
   "execution_count": 653,
   "metadata": {},
   "outputs": [
    {
     "name": "stdout",
     "output_type": "stream",
     "text": [
      "The data type of Year of Manufacture Before is float64\n",
      "The data type of Year of Manufacture After is int32\n"
     ]
    }
   ],
   "source": [
    "print(f\"The data type of Year of Manufacture Before is {data['Year of Manufacture'].dtype}\")\n",
    "data['Year of Manufacture']=data['Year of Manufacture'].astype(int)\n",
    "print(f\"The data type of Year of Manufacture After is {data['Year of Manufacture'].dtype}\")"
   ]
  },
  {
   "cell_type": "markdown",
   "metadata": {},
   "source": [
    "****\n",
    "**`Column : Mileage`**\n",
    "- `Mileage` is the predominant feature in evaluating car.\n",
    "- So removing the null values and some values are in different units.\n",
    "- Make all the data in kmpl.\n",
    "- Datas in km/kg are converted to kmpl by multiplying with 0.75. "
   ]
  },
  {
   "cell_type": "code",
   "execution_count": 654,
   "metadata": {},
   "outputs": [
    {
     "name": "stdout",
     "output_type": "stream",
     "text": [
      "Null values in Mileage before dropping: 278\n",
      "Null values in Mileage after dropping: 0\n"
     ]
    }
   ],
   "source": [
    "print(f\"Null values in Mileage before dropping: {data['Mileage'].isnull().sum()}\")\n",
    "data = data.dropna(subset=['Mileage'])\n",
    "print(f\"Null values in Mileage after dropping: {data['Mileage'].isnull().sum()}\")"
   ]
  },
  {
   "cell_type": "code",
   "execution_count": 655,
   "metadata": {},
   "outputs": [
    {
     "data": {
      "text/plain": [
       "Mileage\n",
       "18.9 kmpl      306\n",
       "18.6 kmpl      225\n",
       "21.4 kmpl      197\n",
       "17 kmpl        190\n",
       "18 kmpl        144\n",
       "              ... \n",
       "18.9 km/kg       1\n",
       "11.24 kmpl       1\n",
       "31.12 km/kg      1\n",
       "20.15 kmpl       1\n",
       "12.98 kmpl       1\n",
       "Name: count, Length: 521, dtype: int64"
      ]
     },
     "execution_count": 655,
     "metadata": {},
     "output_type": "execute_result"
    }
   ],
   "source": [
    "data['Mileage'].value_counts()"
   ]
  },
  {
   "cell_type": "code",
   "execution_count": 656,
   "metadata": {},
   "outputs": [],
   "source": [
    "# Function to extract numeric value and handle conversion\n",
    "def convert_mileage(row):\n",
    "    value, unit = row.split(' ')\n",
    "    value = float(value)\n",
    "    if unit == 'km/kg':\n",
    "        return value / 0.75\n",
    "    else:\n",
    "        return value\n",
    "\n",
    "\n",
    "# Apply function to 'efficiency' column\n",
    "data['Mileage'] = data['Mileage'].apply(convert_mileage)\n"
   ]
  },
  {
   "cell_type": "code",
   "execution_count": 657,
   "metadata": {},
   "outputs": [
    {
     "data": {
      "text/plain": [
       "dtype('float64')"
      ]
     },
     "execution_count": 657,
     "metadata": {},
     "output_type": "execute_result"
    }
   ],
   "source": [
    "data['Mileage'].dtype"
   ]
  },
  {
   "cell_type": "markdown",
   "metadata": {},
   "source": [
    "****\n",
    "**`Column : Engine`**\n",
    "- The Values in Engine column are in string format.\n",
    "- Only numeric values are extracted."
   ]
  },
  {
   "cell_type": "code",
   "execution_count": 658,
   "metadata": {},
   "outputs": [],
   "source": [
    "data['Engine'] = data['Engine'].str.extract(r'([\\d]+) CC').astype(int)"
   ]
  },
  {
   "cell_type": "markdown",
   "metadata": {},
   "source": [
    "****\n",
    "**`Column : Max Power`**\n",
    "- Max Power has mix of bhp and rpm in string format.\n",
    "- Getting the bhp value only and change the data type to float.\n",
    "- Max Power are in string with values in different units.\n",
    "- Used Regular expression to get the Value of BHP."
   ]
  },
  {
   "cell_type": "code",
   "execution_count": 659,
   "metadata": {},
   "outputs": [
    {
     "data": {
      "text/plain": [
       "Max Power\n",
       "81.80bhp@6000rpm          282\n",
       "81.86bhp@6000rpm          277\n",
       "88.50bhp@6000rpm          267\n",
       "83.1bhp@6000rpm           197\n",
       "74bhp@4000rpm             170\n",
       "                         ... \n",
       "170bhp@3000-4200            1\n",
       "112.2 @ 4,000 (PS@rpm)      1\n",
       "138bhp@3750rpm              1\n",
       "335.2@5000-6400             1\n",
       "75@5,500 (PS@rpm)           1\n",
       "Name: count, Length: 711, dtype: int64"
      ]
     },
     "execution_count": 659,
     "metadata": {},
     "output_type": "execute_result"
    }
   ],
   "source": [
    "data['Max Power'].value_counts()"
   ]
  },
  {
   "cell_type": "code",
   "execution_count": 660,
   "metadata": {},
   "outputs": [
    {
     "data": {
      "text/plain": [
       "35"
      ]
     },
     "execution_count": 660,
     "metadata": {},
     "output_type": "execute_result"
    }
   ],
   "source": [
    "data['Max Power'].isnull().sum()"
   ]
  },
  {
   "cell_type": "code",
   "execution_count": 661,
   "metadata": {},
   "outputs": [
    {
     "name": "stdout",
     "output_type": "stream",
     "text": [
      "              Max Power  Max Power(bhp)\n",
      "0      67.04bhp@6000rpm           67.04\n",
      "1     121.31bhp@6500rpm          121.31\n",
      "2         84bhp@6000rpm           84.00\n",
      "3      81.86bhp@6000rpm           81.86\n",
      "4       88.5bhp@4000rpm           88.50\n",
      "...                 ...             ...\n",
      "8364   65.71bhp@5500rpm           65.71\n",
      "8365    47.3bhp@6000rpm           47.30\n",
      "8366     186bhp@5600rpm          186.00\n",
      "8367   85.80bhp@6000rpm           85.80\n",
      "8368  108.45bhp@4000rpm          108.45\n",
      "\n",
      "[7994 rows x 2 columns]\n"
     ]
    }
   ],
   "source": [
    "data = data.dropna(subset=['Max Power'])\n",
    "\n",
    "import re\n",
    "# Function to extract numeric value for bhp\n",
    "\n",
    "def extract_bhp(row):\n",
    "    # List of patterns to search for numeric values before 'bhp', 'hp', or 'ps' (case-insensitive)\n",
    "    patterns = [r'(\\d+\\.?\\d*)b?hp',r'(\\d+\\.?\\d*)\\s+b?hp', r'(\\d+\\.?\\d*)@', r'(\\d+\\.?\\d*)\\s+@', r'(\\d+\\.?\\d*)\\s+p?s', r'(\\d+\\.?\\d*)p?s', r'(\\d+)\\(', r'(\\d+\\.?\\d*)\\s*(?:bhp|ps)']\n",
    "    \n",
    "    for pattern in patterns:\n",
    "        match = re.search(pattern, row, re.IGNORECASE)\n",
    "        if match:\n",
    "            # If a match is found, return the numeric value\n",
    "            value = float(match.group(1))\n",
    "            # Apply conversion factor if 'ps' is found\n",
    "            if 'ps' in match.group(0).lower():\n",
    "                value *= 0.986\n",
    "            return value\n",
    "    \n",
    "    # If none of the patterns match, return None\n",
    "    return None\n",
    "\n",
    "# Apply function to 'power' column\n",
    "data['Max Power(bhp)'] = data['Max Power'].apply(extract_bhp)\n",
    "\n",
    "# Print Max Power before and after.\n",
    "result = pd.DataFrame(data[['Max Power', 'Max Power(bhp)']])\n",
    "print(result)\n"
   ]
  },
  {
   "cell_type": "code",
   "execution_count": 662,
   "metadata": {},
   "outputs": [],
   "source": [
    "data.drop(columns=['Max Power'], inplace=True)"
   ]
  },
  {
   "cell_type": "code",
   "execution_count": 663,
   "metadata": {},
   "outputs": [
    {
     "data": {
      "text/plain": [
       "dtype('float64')"
      ]
     },
     "execution_count": 663,
     "metadata": {},
     "output_type": "execute_result"
    }
   ],
   "source": [
    "data['Max Power(bhp)'].dtype"
   ]
  },
  {
   "cell_type": "markdown",
   "metadata": {},
   "source": [
    "****\n",
    "**`Column : Color`**\n",
    "- Color is a dominant factor in evaluating car.\n",
    "- The default value is looking good."
   ]
  },
  {
   "cell_type": "code",
   "execution_count": 664,
   "metadata": {},
   "outputs": [
    {
     "data": {
      "text/plain": [
       "Color\n",
       "Others             2093\n",
       "White              1558\n",
       "Silver             1244\n",
       "Red                 771\n",
       "Blue                576\n",
       "                   ... \n",
       "Passion Red           1\n",
       "Hip Hop Black         1\n",
       "Cherry                1\n",
       "Falsa Colour          1\n",
       "Out Back Bronze       1\n",
       "Name: count, Length: 148, dtype: int64"
      ]
     },
     "execution_count": 664,
     "metadata": {},
     "output_type": "execute_result"
    }
   ],
   "source": [
    "data['Color'].value_counts()"
   ]
  },
  {
   "cell_type": "markdown",
   "metadata": {},
   "source": [
    "****\n",
    "**`Column : Engine Type`**\n",
    "- Torque and Power are the outut of the Engine.\n",
    "- Here I am leaving the column `Engine Type`."
   ]
  },
  {
   "cell_type": "code",
   "execution_count": 665,
   "metadata": {},
   "outputs": [],
   "source": [
    "data.drop(columns=['Engine Type'], inplace=True)"
   ]
  },
  {
   "cell_type": "markdown",
   "metadata": {},
   "source": [
    "****\n",
    "**`Column : Max Torque`**\n",
    "- The value in this columns are in `String` format. \n",
    "- some values in the kgm format those were multiplied with `9.8` to make it `Nm`."
   ]
  },
  {
   "cell_type": "code",
   "execution_count": 666,
   "metadata": {},
   "outputs": [
    {
     "data": {
      "text/plain": [
       "Max Torque\n",
       "90Nm@3500rpm                  375\n",
       "200Nm@1750rpm                 283\n",
       "113Nm@4200rpm                 273\n",
       "113Nm@4400rpm                 238\n",
       "110Nm@4800rpm                 230\n",
       "                             ... \n",
       "400Nm@1400-2800                 1\n",
       "127Nm@3500rpm                   1\n",
       "32.6@1,750-2,500 (kgm@rpm)      1\n",
       "115Nm@3750rpm                   1\n",
       "171Nm@1800rpm                   1\n",
       "Name: count, Length: 567, dtype: int64"
      ]
     },
     "execution_count": 666,
     "metadata": {},
     "output_type": "execute_result"
    }
   ],
   "source": [
    "data[\"Max Torque\"].value_counts()"
   ]
  },
  {
   "cell_type": "code",
   "execution_count": 667,
   "metadata": {},
   "outputs": [
    {
     "name": "stdout",
     "output_type": "stream",
     "text": [
      "              Max Torque  Max Torque(Nm)\n",
      "0           90Nm@3500rpm           90.00\n",
      "1          150Nm@4500rpm          150.00\n",
      "2          114Nm@3500rpm          114.00\n",
      "3       113.75Nm@4000rpm          113.75\n",
      "4          200Nm@1750rpm          200.00\n",
      "...                  ...             ...\n",
      "8364        89Nm@3500rpm           89.00\n",
      "8365        69Nm@3500rpm           69.00\n",
      "8366  285Nm@2400-4000rpm          285.00\n",
      "8367       114Nm@4000rpm          114.00\n",
      "8368       245Nm@1750rpm          245.00\n",
      "\n",
      "[7994 rows x 2 columns]\n"
     ]
    }
   ],
   "source": [
    "import pandas as pd\n",
    "import re\n",
    "\n",
    "# Assuming 'data' is your DataFrame\n",
    "\n",
    "data = data.dropna(subset=['Max Torque'])\n",
    "\n",
    "def extract_torque(row):\n",
    "    patterns = [r'(\\d+\\.?\\d*)Nm', r'(\\d+\\.?\\d*)\\s+Nm', r'(\\d+\\.?\\d*)\\s+kgm',r'(\\d+\\.?\\d*)@', r'(\\d+\\.?\\d*)\\s+@', r'(\\d+\\.?\\d*)\\s+\\(']\n",
    "    \n",
    "    for pattern in patterns:\n",
    "        match = re.search(pattern, row, re.IGNORECASE)\n",
    "        if match:\n",
    "            value = float(match.group(1))\n",
    "            if 'kgm' in row.lower():  # Corrected 'ps' to 'kgm'\n",
    "                value *= 9.8\n",
    "            return value\n",
    "    return None\n",
    "\n",
    "data['Max Torque(Nm)'] = data['Max Torque'].apply(extract_torque)\n",
    "\n",
    "torque_result = pd.DataFrame(data[['Max Torque', 'Max Torque(Nm)']])\n",
    "print(torque_result)\n",
    "\n",
    "torque_result.to_csv('cleaned_torque.csv')"
   ]
  },
  {
   "cell_type": "code",
   "execution_count": 668,
   "metadata": {},
   "outputs": [
    {
     "name": "stdout",
     "output_type": "stream",
     "text": [
      "Null after dropped: 0\n"
     ]
    }
   ],
   "source": [
    "max_torque_null = data['Max Torque(Nm)'].isnull().sum()\n",
    "data = data.dropna(subset='Max Torque(Nm)')\n",
    "print('Null after dropped:', data['Max Torque(Nm)'].isnull().sum())"
   ]
  },
  {
   "cell_type": "code",
   "execution_count": 669,
   "metadata": {},
   "outputs": [],
   "source": [
    "data.drop(columns=['Max Torque'], inplace=True)"
   ]
  },
  {
   "cell_type": "markdown",
   "metadata": {},
   "source": [
    "****\n",
    "**`Column : Value configuration`**\n",
    "- The `Valve configuration` is meaningful. so changing the column name.\n",
    "- valve values are in different reference. so grouping them by appropriate type.\n",
    "- uff! there are more than 1900 null values . 20% of the data . so iam gonna dcrop this feature."
   ]
  },
  {
   "cell_type": "code",
   "execution_count": 670,
   "metadata": {},
   "outputs": [
    {
     "name": "stdout",
     "output_type": "stream",
     "text": [
      "Value Configuration\n",
      "DOHC                    4635\n",
      "SOHC                    1252\n",
      "DOHC                      80\n",
      "undefined                 14\n",
      "DOHC with VIS             12\n",
      "iDSI                       8\n",
      "DOHC with VGT              5\n",
      "16-valve DOHC layout       3\n",
      "23 Modules 69 Cells        1\n",
      "DOHC with TIS              1\n",
      "VTEC                       1\n",
      "SOHC                       1\n",
      "Name: count, dtype: int64\n"
     ]
    },
    {
     "data": {
      "text/plain": [
       "['DOHC',\n",
       " nan,\n",
       " 'SOHC',\n",
       " 'DOHC ',\n",
       " 'undefined',\n",
       " 'DOHC with VIS',\n",
       " 'iDSI',\n",
       " '23 Modules 69 Cells',\n",
       " 'DOHC with VGT',\n",
       " '16-valve DOHC layout',\n",
       " 'DOHC with TIS',\n",
       " 'VTEC',\n",
       " 'SOHC ']"
      ]
     },
     "execution_count": 670,
     "metadata": {},
     "output_type": "execute_result"
    }
   ],
   "source": [
    "print(data['Value Configuration'].value_counts())\n",
    "list(data['Value Configuration'].unique())"
   ]
  },
  {
   "cell_type": "code",
   "execution_count": 671,
   "metadata": {},
   "outputs": [],
   "source": [
    "# rename the column\n",
    "data = data.rename(columns={'Value Configuration':'Valve Configuration'})\n",
    "# Define a dictionary to map misspelled words to their correct counterparts\n",
    "corrections = {'DOHC ': 'DOHC','DOHC with VIS':'DOHC','DOHC with VGT':'DOHC', '16-valve DOHC layout':'DOHC', 'DOHC with TIS':'DOHC','SOHC ':'SOHC' }  # Add more mappings as needed\n",
    "\n",
    "# Replace misspelled words with correct ones\n",
    "data['Valve Configuration'] = data['Valve Configuration'].replace(corrections)"
   ]
  },
  {
   "cell_type": "code",
   "execution_count": 672,
   "metadata": {},
   "outputs": [
    {
     "data": {
      "text/plain": [
       "Valve Configuration\n",
       "DOHC                   4736\n",
       "SOHC                   1253\n",
       "undefined                14\n",
       "iDSI                      8\n",
       "23 Modules 69 Cells       1\n",
       "VTEC                      1\n",
       "Name: count, dtype: int64"
      ]
     },
     "execution_count": 672,
     "metadata": {},
     "output_type": "execute_result"
    }
   ],
   "source": [
    "data['Valve Configuration'].value_counts()"
   ]
  },
  {
   "cell_type": "code",
   "execution_count": 673,
   "metadata": {},
   "outputs": [],
   "source": [
    "removing_values = ['undefined','23 Modules 69 Cells','VTEC']\n",
    "data = data[~data['Valve Configuration'].isin(removing_values)]"
   ]
  },
  {
   "cell_type": "code",
   "execution_count": 674,
   "metadata": {},
   "outputs": [
    {
     "data": {
      "text/plain": [
       "Valve Configuration\n",
       "DOHC    4736\n",
       "SOHC    1253\n",
       "iDSI       8\n",
       "Name: count, dtype: int64"
      ]
     },
     "execution_count": 674,
     "metadata": {},
     "output_type": "execute_result"
    }
   ],
   "source": [
    "data['Valve Configuration'].value_counts()"
   ]
  },
  {
   "cell_type": "code",
   "execution_count": 675,
   "metadata": {},
   "outputs": [
    {
     "data": {
      "text/plain": [
       "1977"
      ]
     },
     "execution_count": 675,
     "metadata": {},
     "output_type": "execute_result"
    }
   ],
   "source": [
    "data['Valve Configuration'].isnull().sum()"
   ]
  },
  {
   "cell_type": "code",
   "execution_count": 676,
   "metadata": {},
   "outputs": [],
   "source": [
    "data.drop(columns=['Valve Configuration'], inplace=True)"
   ]
  },
  {
   "cell_type": "markdown",
   "metadata": {},
   "source": [
    "****\n",
    "**`Column : BoreX Stroke`**\n",
    "- Torque and Power are related with bore. so we can drop this feature."
   ]
  },
  {
   "cell_type": "code",
   "execution_count": 677,
   "metadata": {},
   "outputs": [],
   "source": [
    "data.drop(columns=['BoreX Stroke'], inplace=True)"
   ]
  },
  {
   "cell_type": "code",
   "execution_count": 678,
   "metadata": {},
   "outputs": [
    {
     "data": {
      "text/plain": [
       "Compression Ratio\n",
       "10.5:1       286\n",
       "11.0:1       226\n",
       "10.3:1       224\n",
       "17.6:1       176\n",
       "16.0:1       144\n",
       "            ... \n",
       "9.5 : 1        1\n",
       "12.0 ±0.3      1\n",
       "11.04:1        1\n",
       "11:1           1\n",
       "16.8:1         1\n",
       "Name: count, Length: 72, dtype: int64"
      ]
     },
     "execution_count": 678,
     "metadata": {},
     "output_type": "execute_result"
    }
   ],
   "source": [
    "data['Compression Ratio'].value_counts()"
   ]
  },
  {
   "cell_type": "markdown",
   "metadata": {},
   "source": [
    "****\n",
    "**`COlumn : Compression Ratio`**\n",
    "- `Compression Ratio` have a relationship with torqe and power. so we can drop this feature."
   ]
  },
  {
   "cell_type": "code",
   "execution_count": 679,
   "metadata": {},
   "outputs": [],
   "source": [
    "data.drop(columns=['Compression Ratio'],inplace=True)"
   ]
  },
  {
   "cell_type": "markdown",
   "metadata": {},
   "source": [
    "****\n",
    "**`Column : Turbo Charger`**\n",
    "- Spell errors in the values of Turbo Charger.\n",
    "- Uff around 990 values are null . so i am gonna drop this feature."
   ]
  },
  {
   "cell_type": "code",
   "execution_count": 680,
   "metadata": {},
   "outputs": [],
   "source": [
    "corrections = {'NO': 'No', 'YES': 'Yes', 'no':'No', 'yes':'Yes', 'Turbo':'Yes', 'twin':'Yes', 'Twin':'Yes'}\n",
    "# spell correcting\n",
    "data['Turbo Charger'] = data['Turbo Charger'].replace(corrections) "
   ]
  },
  {
   "cell_type": "code",
   "execution_count": 681,
   "metadata": {},
   "outputs": [
    {
     "data": {
      "text/plain": [
       "Turbo Charger\n",
       "No     4168\n",
       "Yes    2872\n",
       "Name: count, dtype: int64"
      ]
     },
     "execution_count": 681,
     "metadata": {},
     "output_type": "execute_result"
    }
   ],
   "source": [
    "data['Turbo Charger'].value_counts()"
   ]
  },
  {
   "cell_type": "code",
   "execution_count": 682,
   "metadata": {},
   "outputs": [
    {
     "data": {
      "text/plain": [
       "934"
      ]
     },
     "execution_count": 682,
     "metadata": {},
     "output_type": "execute_result"
    }
   ],
   "source": [
    "data['Turbo Charger'].isnull().sum()"
   ]
  },
  {
   "cell_type": "code",
   "execution_count": 683,
   "metadata": {},
   "outputs": [],
   "source": [
    "data.drop(columns=['Turbo Charger'], inplace=True)"
   ]
  },
  {
   "cell_type": "markdown",
   "metadata": {},
   "source": [
    "****\n",
    "**`Column : Super Charger`**\n",
    "- Around 1650 values are null. so i am going to drop the column."
   ]
  },
  {
   "cell_type": "code",
   "execution_count": 684,
   "metadata": {},
   "outputs": [
    {
     "data": {
      "text/plain": [
       "1657"
      ]
     },
     "execution_count": 684,
     "metadata": {},
     "output_type": "execute_result"
    }
   ],
   "source": [
    "data[\"Super Charger\"].isnull().sum()"
   ]
  },
  {
   "cell_type": "code",
   "execution_count": 685,
   "metadata": {},
   "outputs": [],
   "source": [
    "data.drop(columns=['Super Charger'], inplace=True)"
   ]
  },
  {
   "cell_type": "markdown",
   "metadata": {},
   "source": [
    "****\n",
    "**`Dropping Unwanted Columns`**"
   ]
  },
  {
   "cell_type": "code",
   "execution_count": 686,
   "metadata": {},
   "outputs": [],
   "source": [
    "Columns_to_drop = ['Torque','Length','Width','Height','Wheel Base','Fuel Suppy System','Front Tread','Rear Tread','Kerb Weight','Gross Weight','Gear Box','Drive Type','Steering Type','Turning Radius','Front Brake Type','Rear Brake Type','Top Speed','Acceleration','Tyre Type','Cargo Volumn','Wheel Size','Alloy Wheel Size','Ground Clearance Unladen']\n",
    "\n",
    "data = data.drop(columns=Columns_to_drop)"
   ]
  },
  {
   "cell_type": "code",
   "execution_count": 687,
   "metadata": {},
   "outputs": [
    {
     "name": "stdout",
     "output_type": "stream",
     "text": [
      "categorical columns:\n",
      " ['Build Type', 'OEM', 'Model', 'Variant Name', 'Insurance Validity', 'Fuel Type', 'Transmission', 'Color'] \n",
      "\n",
      " Numerical columns:\n",
      " ['Kilo Meter', 'ownerNo', 'modelYear', 'centralVariantId', 'price', 'PriceActual', 'priceSaving', 'priceFixedText', 'Registration Year', 'Seats', 'Engine Displacement', 'Year of Manufacture', 'Mileage', 'Engine', 'Displacement', 'No of Cylinder', 'Values per Cylinder', 'Seating Capacity', 'No Door Numbers', 'Max Power(bhp)', 'Max Torque(Nm)']\n"
     ]
    }
   ],
   "source": [
    "categorical_columns = [column for column in data.columns if data[column].dtype == \"object\"]\n",
    "numerical_columns = [column for column in data.columns if data[column].dtype != \"object\"]\n",
    "\n",
    "print(\"categorical columns:\\n\", categorical_columns, \"\\n\\n Numerical columns:\\n\", numerical_columns)"
   ]
  },
  {
   "cell_type": "markdown",
   "metadata": {},
   "source": [
    "****\n",
    "# **`Cleaning NUmerical Columns:`**"
   ]
  },
  {
   "cell_type": "markdown",
   "metadata": {},
   "source": [
    "****\n",
    "**`COlumn : No Door Numbers`**\n",
    "- Changing the column name for better readability. "
   ]
  },
  {
   "cell_type": "code",
   "execution_count": 696,
   "metadata": {},
   "outputs": [
    {
     "name": "stdout",
     "output_type": "stream",
     "text": [
      "No Door Numbers\n",
      "5.0    5502\n",
      "4.0    2433\n",
      "3.0      24\n",
      "2.0      10\n",
      "6.0       2\n",
      "Name: count, dtype: int64\n"
     ]
    },
    {
     "data": {
      "text/plain": [
       "3"
      ]
     },
     "execution_count": 696,
     "metadata": {},
     "output_type": "execute_result"
    }
   ],
   "source": [
    "print(data['No Door Numbers'].value_counts())\n",
    "data['No Door Numbers'].isnull().sum()"
   ]
  },
  {
   "cell_type": "code",
   "execution_count": 698,
   "metadata": {},
   "outputs": [],
   "source": [
    "data.dropna(subset='No Door Numbers',inplace=True)\n",
    "data.rename(columns={'No Door Numbers' : 'No Of Doors'}, inplace=True)"
   ]
  },
  {
   "cell_type": "markdown",
   "metadata": {},
   "source": [
    "****\n",
    "**Columns `'PriceActual', 'priceSaving', 'priceFixedText'` are having huge null values. i am going to drop it.**"
   ]
  },
  {
   "cell_type": "code",
   "execution_count": 699,
   "metadata": {},
   "outputs": [],
   "source": [
    "Columns_to_drop = ['PriceActual', 'priceSaving', 'priceFixedText']\n",
    "data.drop(columns=Columns_to_drop, inplace=True)"
   ]
  },
  {
   "cell_type": "markdown",
   "metadata": {},
   "source": [
    "****\n",
    "**`Column : Values per Cylinder`**\n",
    "- Dropping the null values in values per Cylinder."
   ]
  },
  {
   "cell_type": "code",
   "execution_count": 708,
   "metadata": {},
   "outputs": [
    {
     "name": "stdout",
     "output_type": "stream",
     "text": [
      "19\n"
     ]
    }
   ],
   "source": [
    "print(data['Values per Cylinder'].isnull().sum())\n",
    "data.dropna(subset='Values per Cylinder', inplace=True)"
   ]
  },
  {
   "cell_type": "markdown",
   "metadata": {},
   "source": [
    "****\n",
    "**`Column : 'Seating Capacity'`**\n",
    "- the COlumn Seating Capacity is already covered by the column seats."
   ]
  },
  {
   "cell_type": "code",
   "execution_count": 716,
   "metadata": {},
   "outputs": [],
   "source": [
    "data.drop(columns=['Seating Capacity'], inplace=True)"
   ]
  },
  {
   "cell_type": "markdown",
   "metadata": {},
   "source": [
    "****\n",
    "# **`Saving Cleaned datafile`**"
   ]
  },
  {
   "cell_type": "code",
   "execution_count": 718,
   "metadata": {},
   "outputs": [],
   "source": [
    "data.to_csv('Cleaned_data.csv', index=False)"
   ]
  },
  {
   "cell_type": "code",
   "execution_count": null,
   "metadata": {},
   "outputs": [],
   "source": []
  }
 ],
 "metadata": {
  "kernelspec": {
   "display_name": "carevaluation",
   "language": "python",
   "name": "python3"
  },
  "language_info": {
   "codemirror_mode": {
    "name": "ipython",
    "version": 3
   },
   "file_extension": ".py",
   "mimetype": "text/x-python",
   "name": "python",
   "nbconvert_exporter": "python",
   "pygments_lexer": "ipython3",
   "version": "3.12.0"
  },
  "orig_nbformat": 4,
  "vscode": {
   "interpreter": {
    "hash": "f7b87215a06799a706f2c55e3ec56f1ba2136516e8887b63635b5020966fbcdc"
   }
  }
 },
 "nbformat": 4,
 "nbformat_minor": 2
}
