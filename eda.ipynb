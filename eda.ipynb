{
 "cells": [
  {
   "cell_type": "markdown",
   "metadata": {},
   "source": [
    "****\n",
    "# **`Exploratory Data Analysis`**"
   ]
  },
  {
   "cell_type": "code",
   "execution_count": null,
   "metadata": {},
   "outputs": [],
   "source": [
    "import pandas as pd\n",
    "dataset = pd.read_csv('Cleaned_data.csv')"
   ]
  },
  {
   "cell_type": "code",
   "execution_count": null,
   "metadata": {},
   "outputs": [],
   "source": [
    "dataset.isnull().sum()"
   ]
  },
  {
   "cell_type": "code",
   "execution_count": null,
   "metadata": {},
   "outputs": [],
   "source": [
    "dataset.describe()"
   ]
  },
  {
   "cell_type": "markdown",
   "metadata": {},
   "source": [
    "****\n",
    "**`Column : Variant Name, Model & Color`**\n",
    "- This column has 1900+ unique values. So that i am gonna drop that column."
   ]
  },
  {
   "cell_type": "code",
   "execution_count": null,
   "metadata": {},
   "outputs": [],
   "source": [
    "dataset.drop(columns=['Variant Name', 'Color', 'Model'], inplace= True)"
   ]
  },
  {
   "cell_type": "code",
   "execution_count": null,
   "metadata": {},
   "outputs": [],
   "source": [
    "categorical_columns = [column for column in dataset.columns if dataset[column].dtype == \"object\"]\n",
    "numerical_columns = [column for column in dataset.columns if dataset[column].dtype != \"object\"]\n",
    "\n",
    "print(\"categorical columns:\\n\", categorical_columns, \"\\n\\n Numerical columns:\\n\", numerical_columns)"
   ]
  },
  {
   "cell_type": "markdown",
   "metadata": {},
   "source": [
    "#  **`Initalizing the list to mark the columns to do one hot encoding`**."
   ]
  },
  {
   "cell_type": "code",
   "execution_count": null,
   "metadata": {},
   "outputs": [],
   "source": [
    "columns_to_onehot = []"
   ]
  },
  {
   "cell_type": "markdown",
   "metadata": {},
   "source": [
    "****\n",
    "**`Column : Build Type`**"
   ]
  },
  {
   "cell_type": "code",
   "execution_count": null,
   "metadata": {},
   "outputs": [],
   "source": [
    "import seaborn as sns\n",
    "import matplotlib.pyplot as plt\n",
    "\n",
    "# Set Seaborn style\n",
    "sns.set_style(\"whitegrid\")\n",
    "\n",
    "# Plot count plot for 'build type' column\n",
    "plt.figure(figsize=(10, 6))\n",
    "ax = sns.countplot(data=dataset, x='Build Type', palette='Set2')\n",
    "\n",
    "# Annotate each bar with its count\n",
    "for p in ax.patches:\n",
    "    ax.annotate(format(p.get_height(), '.0f'), \n",
    "                (p.get_x() + p.get_width() / 2., p.get_height()), \n",
    "                ha = 'center', va = 'center', \n",
    "                xytext = (0, 5), \n",
    "                textcoords = 'offset points')\n",
    "\n",
    "plt.title('Distribution of Build Type')\n",
    "plt.xlabel('Build Type')\n",
    "plt.ylabel('Count')\n",
    "plt.xticks(rotation=45)  # Rotate x-axis labels for better readability\n",
    "plt.show()"
   ]
  },
  {
   "cell_type": "code",
   "execution_count": null,
   "metadata": {},
   "outputs": [],
   "source": [
    "# Values to drop from 'build type' column\n",
    "buildtype_to_drop = ['Coupe', 'Wagon', 'Hybrids', 'Convertibles', 'Pickup Trucks', 'Minivans']\n",
    "\n",
    "# Drop rows where 'build type' is in the list of values to drop\n",
    "dataset = dataset[~dataset['Build Type'].isin(buildtype_to_drop)]\n",
    "\n",
    "# Set Seaborn style\n",
    "sns.set_style(\"whitegrid\")\n",
    "\n",
    "# Plot count plot for 'build type' column\n",
    "plt.figure(figsize=(10, 6))\n",
    "ax = sns.countplot(data=dataset, x='Build Type', palette='Set2')\n",
    "\n",
    "# Annotate each bar with its count\n",
    "for p in ax.patches:\n",
    "    ax.annotate(format(p.get_height(), '.0f'), \n",
    "                (p.get_x() + p.get_width() / 2., p.get_height()), \n",
    "                ha = 'center', va = 'center', \n",
    "                xytext = (0, 5), \n",
    "                textcoords = 'offset points')\n",
    "\n",
    "plt.title('Distribution of Build Type')\n",
    "plt.xlabel('Build Type')\n",
    "plt.ylabel('Count')\n",
    "plt.xticks(rotation=45)  # Rotate x-axis labels for better readability\n",
    "plt.show()"
   ]
  },
  {
   "cell_type": "code",
   "execution_count": null,
   "metadata": {},
   "outputs": [],
   "source": [
    "# Calculate the mean price for each category of build type\n",
    "mean_price_by_build_type = dataset.groupby('Build Type')['price'].mean()\n",
    "\n",
    "# Display the result\n",
    "print(mean_price_by_build_type)"
   ]
  },
  {
   "cell_type": "markdown",
   "metadata": {},
   "source": [
    "- About to encode Build Type based on the Average Price of the car.\n",
    "- Average of some build types are close to each other.\n",
    "- Im going to mark the Build type for 'One Hot Encoding'."
   ]
  },
  {
   "cell_type": "code",
   "execution_count": null,
   "metadata": {},
   "outputs": [],
   "source": [
    "columns_to_onehot.append('Build Type')"
   ]
  },
  {
   "cell_type": "markdown",
   "metadata": {},
   "source": [
    "****\n",
    "**`Column : OEM`**"
   ]
  },
  {
   "cell_type": "code",
   "execution_count": null,
   "metadata": {},
   "outputs": [],
   "source": [
    "# Set Seaborn style\n",
    "sns.set_style(\"whitegrid\")\n",
    "\n",
    "# Plot count plot for 'OEM' column\n",
    "plt.figure(figsize=(20, 6))\n",
    "ax = sns.countplot(data=dataset, x='OEM', palette='Set2')\n",
    "\n",
    "# Annotate each bar with its count\n",
    "for p in ax.patches:\n",
    "    ax.annotate(format(p.get_height(), '.0f'), \n",
    "                (p.get_x() + p.get_width() / 2., p.get_height()), \n",
    "                ha = 'center', va = 'center', \n",
    "                xytext = (0, 5), \n",
    "                textcoords = 'offset points')\n",
    "\n",
    "plt.title('Distribution of OEM')\n",
    "plt.xlabel('OEM')\n",
    "plt.ylabel('Count')\n",
    "plt.xticks(rotation=45)  # Rotate x-axis labels for better readability\n",
    "plt.show()"
   ]
  },
  {
   "cell_type": "markdown",
   "metadata": {},
   "source": [
    "- Gonna Take only OEM having count more than 50 to reduce the dimensionality."
   ]
  },
  {
   "cell_type": "code",
   "execution_count": null,
   "metadata": {},
   "outputs": [],
   "source": [
    "# Calculate the count of each OEM\n",
    "oem_counts = dataset['OEM'].value_counts()\n",
    "\n",
    "# Filter out OEMs with count more than 5\n",
    "oems_to_consider = oem_counts[oem_counts > 50].index.tolist()\n",
    "\n",
    "# Filter the DataFrame to include only the selected OEMs\n",
    "OEM_filtered_dataset = dataset[dataset['OEM'].isin(oems_to_consider)]\n",
    "\n",
    "# Plot count plot for 'OEM' column\n",
    "plt.figure(figsize=(20, 6))\n",
    "ax = sns.countplot(data=OEM_filtered_dataset, x='OEM', palette='Set2')\n",
    "\n",
    "# Annotate each bar with its count\n",
    "for p in ax.patches:\n",
    "    ax.annotate(format(p.get_height(), '.0f'), \n",
    "                (p.get_x() + p.get_width() / 2., p.get_height()), \n",
    "                ha = 'center', va = 'center', \n",
    "                xytext = (0, 5), \n",
    "                textcoords = 'offset points')\n",
    "\n",
    "plt.title('Distribution of OEM')\n",
    "plt.xlabel('OEM')\n",
    "plt.ylabel('Count')\n",
    "plt.xticks(rotation=45)  # Rotate x-axis labels for better readability\n",
    "plt.show()"
   ]
  },
  {
   "cell_type": "code",
   "execution_count": null,
   "metadata": {},
   "outputs": [],
   "source": [
    "columns_to_onehot.append('OEM')"
   ]
  },
  {
   "cell_type": "markdown",
   "metadata": {},
   "source": [
    "****\n",
    "**`Column : Insurance Validity`**"
   ]
  },
  {
   "cell_type": "code",
   "execution_count": null,
   "metadata": {},
   "outputs": [],
   "source": [
    "# Set Seaborn style\n",
    "sns.set_style(\"whitegrid\")\n",
    "\n",
    "# Plot count plot for 'OEM' column\n",
    "plt.figure(figsize=(20, 6))\n",
    "ax = sns.countplot(data=OEM_filtered_dataset, x='Insurance Validity', palette='Set2')\n",
    "\n",
    "# Annotate each bar with its count\n",
    "for p in ax.patches:\n",
    "    ax.annotate(format(p.get_height(), '.0f'), \n",
    "                (p.get_x() + p.get_width() / 2., p.get_height()), \n",
    "                ha = 'center', va = 'center', \n",
    "                xytext = (0, 5), \n",
    "                textcoords = 'offset points')\n",
    "\n",
    "plt.title('Distribution of Insurance Validity')\n",
    "plt.xlabel('Insurance Validity')\n",
    "plt.ylabel('Count')\n",
    "plt.xticks()  # Rotate x-axis labels for better readability\n",
    "plt.show()"
   ]
  },
  {
   "cell_type": "code",
   "execution_count": null,
   "metadata": {},
   "outputs": [],
   "source": [
    "columns_to_onehot.append('Insurance Validity')"
   ]
  },
  {
   "cell_type": "markdown",
   "metadata": {},
   "source": [
    "****\n",
    "**`COlumn : Fuel Type`**"
   ]
  },
  {
   "cell_type": "code",
   "execution_count": null,
   "metadata": {},
   "outputs": [],
   "source": [
    "# Set Seaborn style\n",
    "sns.set_style(\"whitegrid\")\n",
    "\n",
    "# Plot count plot for 'OEM' column\n",
    "plt.figure(figsize=(20, 6))\n",
    "ax = sns.countplot(data=OEM_filtered_dataset, x='Fuel Type', palette='Set2')\n",
    "\n",
    "# Annotate each bar with its count\n",
    "for p in ax.patches:\n",
    "    ax.annotate(format(p.get_height(), '.0f'), \n",
    "                (p.get_x() + p.get_width() / 2., p.get_height()), \n",
    "                ha = 'center', va = 'center', \n",
    "                xytext = (0, 5), \n",
    "                textcoords = 'offset points')\n",
    "\n",
    "plt.title('Distribution of Fuel Type')\n",
    "plt.xlabel('Fuel Type')\n",
    "plt.ylabel('Count')\n",
    "plt.xticks()  # Rotate x-axis labels for better readability\n",
    "plt.show()"
   ]
  },
  {
   "cell_type": "code",
   "execution_count": null,
   "metadata": {},
   "outputs": [],
   "source": [
    "Fuel_Type_filtered_dataset = OEM_filtered_dataset[OEM_filtered_dataset['Fuel Type'].isin(['Petrol', 'Diesel'])]"
   ]
  },
  {
   "cell_type": "code",
   "execution_count": null,
   "metadata": {},
   "outputs": [],
   "source": [
    "sns.set_style(\"whitegrid\")\n",
    "\n",
    "# Plot count plot for 'Fuel Type' column\n",
    "plt.figure(figsize=(20, 6))\n",
    "ax = sns.countplot(data=Fuel_Type_filtered_dataset, x='Fuel Type', palette='Set2')\n",
    "\n",
    "# Annotate each bar with its count\n",
    "for p in ax.patches:\n",
    "    ax.annotate(format(p.get_height(), '.0f'), \n",
    "                (p.get_x() + p.get_width() / 2., p.get_height()), \n",
    "                ha = 'center', va = 'center', \n",
    "                xytext = (0, 5), \n",
    "                textcoords = 'offset points')\n",
    "\n",
    "plt.title('Distribution of Fuel Type')\n",
    "plt.xlabel('Fuel Type')\n",
    "plt.ylabel('Count')\n",
    "plt.xticks()  # Rotate x-axis labels for better readability\n",
    "plt.show()"
   ]
  },
  {
   "cell_type": "code",
   "execution_count": null,
   "metadata": {},
   "outputs": [],
   "source": [
    "# Binary encode the 'Fuel Type' column\n",
    "Fuel_Type_filtered_dataset['Fuel Type'] = Fuel_Type_filtered_dataset['Fuel Type'].map({'Petrol': 0, 'Diesel': 1})"
   ]
  },
  {
   "cell_type": "markdown",
   "metadata": {},
   "source": [
    "****\n",
    "**`COlumn : Transmission`**"
   ]
  },
  {
   "cell_type": "code",
   "execution_count": null,
   "metadata": {},
   "outputs": [],
   "source": [
    "sns.set_style(\"whitegrid\")\n",
    "\n",
    "# Plot count plot for 'Transmission' column\n",
    "plt.figure(figsize=(20, 6))\n",
    "ax = sns.countplot(data=Fuel_Type_filtered_dataset, x='Transmission', palette='Set2')\n",
    "\n",
    "# Annotate each bar with its count\n",
    "for p in ax.patches:\n",
    "    ax.annotate(format(p.get_height(), '.0f'), \n",
    "                (p.get_x() + p.get_width() / 2., p.get_height()), \n",
    "                ha = 'center', va = 'center', \n",
    "                xytext = (0, 5), \n",
    "                textcoords = 'offset points')\n",
    "\n",
    "plt.title('Distribution of Transmission')\n",
    "plt.xlabel('Transmission')\n",
    "plt.ylabel('Count')\n",
    "plt.xticks()  # Rotate x-axis labels for better readability\n",
    "plt.show()"
   ]
  },
  {
   "cell_type": "code",
   "execution_count": null,
   "metadata": {},
   "outputs": [],
   "source": [
    "# Binary encode the 'Transmission' column\n",
    "Fuel_Type_filtered_dataset['Transmission'] = Fuel_Type_filtered_dataset['Transmission'].map({'Manual': 0, 'Automatic': 1})"
   ]
  },
  {
   "cell_type": "markdown",
   "metadata": {},
   "source": [
    "****\n",
    "# **`Numerical Columns`**"
   ]
  },
  {
   "cell_type": "markdown",
   "metadata": {},
   "source": [
    "- **`Kilo Meter`**"
   ]
  },
  {
   "cell_type": "code",
   "execution_count": null,
   "metadata": {},
   "outputs": [],
   "source": [
    "# Set the style of the plot\n",
    "sns.set_style(\"whitegrid\")\n",
    "\n",
    "# Plot kernel density estimation (KDE) plot for the 'Kilo Meter' column\n",
    "plt.figure(figsize=(8, 6))\n",
    "sns.kdeplot(Fuel_Type_filtered_dataset['Kilo Meter'], color='skyblue', shade=True)\n",
    "plt.title('Distribution of Kilo Meter')\n",
    "plt.xlabel('Kilo Meter')\n",
    "plt.ylabel('Density')\n",
    "plt.grid(True)\n",
    "plt.show()"
   ]
  },
  {
   "cell_type": "code",
   "execution_count": null,
   "metadata": {},
   "outputs": [],
   "source": [
    "# Calculate the first quartile (Q1)\n",
    "Q1 = Fuel_Type_filtered_dataset['Kilo Meter'].quantile(0.25)\n",
    "\n",
    "# Calculate the third quartile (Q3)\n",
    "Q3 = Fuel_Type_filtered_dataset['Kilo Meter'].quantile(0.75)\n",
    "\n",
    "# Calculate the interquartile range (IQR)\n",
    "IQR = Q3 - Q1\n",
    "\n",
    "# Define the lower bound (Q1 - 1.5 * IQR)\n",
    "lower_bound = Q1 - 1.5 * IQR\n",
    "\n",
    "# Define the upper bound (Q3 + 1.5 * IQR)\n",
    "upper_bound = Q3 + 1.5 * IQR\n",
    "\n",
    "# Drop rows with 'Kilo Meter' values outside the lower and upper bounds\n",
    "Km_filtered_dataset = Fuel_Type_filtered_dataset[(Fuel_Type_filtered_dataset['Kilo Meter'] >= lower_bound) & (Fuel_Type_filtered_dataset['Kilo Meter'] <= upper_bound)]\n"
   ]
  },
  {
   "cell_type": "code",
   "execution_count": null,
   "metadata": {},
   "outputs": [],
   "source": [
    "# Set the style of the plot\n",
    "sns.set_style(\"whitegrid\")\n",
    "\n",
    "# Plot kernel density estimation (KDE) plot for the 'Kilo Meter' column\n",
    "plt.figure(figsize=(8, 6))\n",
    "sns.kdeplot(Km_filtered_dataset['Kilo Meter'], color='skyblue', shade=True)\n",
    "plt.title('Distribution of Kilo Meter')\n",
    "plt.xlabel('Kilo Meter')\n",
    "plt.ylabel('Density')\n",
    "plt.grid(True)\n",
    "plt.show()\n"
   ]
  },
  {
   "cell_type": "code",
   "execution_count": null,
   "metadata": {},
   "outputs": [],
   "source": [
    "# Drop rows where 'Kilo Meter' column is 0\n",
    "Km_filtered_dataset = Km_filtered_dataset[Km_filtered_dataset['Kilo Meter'] != 0]"
   ]
  },
  {
   "cell_type": "markdown",
   "metadata": {},
   "source": [
    "- **Transforming to Normal Distribution.**"
   ]
  },
  {
   "cell_type": "code",
   "execution_count": null,
   "metadata": {},
   "outputs": [],
   "source": [
    "import numpy as np\n",
    "from scipy import stats\n",
    "\n",
    "# Apply Box-Cox transformation\n",
    "transformed_data, Kilo_Meter_lamda = stats.boxcox(Km_filtered_dataset['Kilo Meter'])\n",
    "# Assigning the values\n",
    "Km_filtered_dataset['Kilo Meter'] = transformed_data\n",
    "\n",
    "# Open the file in write mode\n",
    "with open('parameters.txt', 'a') as file:\n",
    "    # Write the variable name and its corresponding lambda value\n",
    "    file.write(\"Kilo_Meter_lamda = {}\\n\".format(Kilo_Meter_lamda))"
   ]
  },
  {
   "cell_type": "code",
   "execution_count": null,
   "metadata": {},
   "outputs": [],
   "source": [
    "# Set the style of the plot\n",
    "sns.set_style(\"whitegrid\")\n",
    "\n",
    "# Plot kernel density estimation (KDE) plot for the 'Kilo Meter' column\n",
    "plt.figure(figsize=(8, 6))\n",
    "sns.kdeplot(Km_filtered_dataset['Kilo Meter'], color='skyblue', shade=True)\n",
    "plt.title('Distribution of Kilo Meter')\n",
    "plt.xlabel('Kilo Meter')\n",
    "plt.ylabel('Density')\n",
    "plt.grid(True)\n",
    "plt.show()"
   ]
  },
  {
   "cell_type": "markdown",
   "metadata": {},
   "source": [
    "- The Box-Cox transformation is a widely used method to stabilize the variance and make the data more closely approximate a normal distribution. It is defined as:\n",
    "- X(λ)={Xλ−1λ for λ≠0,\n",
    "    logX for λ=0}"
   ]
  },
  {
   "cell_type": "markdown",
   "metadata": {},
   "source": [
    "****\n",
    "**`ownerNo`**"
   ]
  },
  {
   "cell_type": "code",
   "execution_count": null,
   "metadata": {},
   "outputs": [],
   "source": [
    "# Calculate frequency distribution of 'owner' categories\n",
    "owner_counts = Km_filtered_dataset['ownerNo'].value_counts()\n",
    "\n",
    "# Visualize using a bar plot\n",
    "plt.figure(figsize=(8, 6))\n",
    "owner_counts.plot(kind='bar', color='skyblue')\n",
    "plt.title('Frequency Distribution of Ownership Types')\n",
    "plt.xlabel('Owner Type')\n",
    "plt.ylabel('Frequency')\n",
    "plt.xticks(rotation=0)  # Rotate x-axis labels if needed\n",
    "plt.grid(axis='y')\n",
    "plt.show()"
   ]
  },
  {
   "cell_type": "markdown",
   "metadata": {},
   "source": [
    "****\n",
    "**`modelYear`**"
   ]
  },
  {
   "cell_type": "code",
   "execution_count": null,
   "metadata": {},
   "outputs": [],
   "source": [
    "# Plotting the distribution of model years using a bar plot\n",
    "plt.figure(figsize=(10, 6))\n",
    "sns.barplot(x=Km_filtered_dataset['modelYear'].value_counts().index,\n",
    "            y=Km_filtered_dataset['modelYear'].value_counts().values,\n",
    "            color='skyblue')  # Specify a valid color here\n",
    "plt.title('Distribution of Model Year')\n",
    "plt.xlabel('Model Year')\n",
    "plt.ylabel('Frequency')\n",
    "plt.xticks(rotation=45)  # Rotate x-axis labels for better readability\n",
    "plt.tight_layout()  \n",
    "plt.show()\n"
   ]
  },
  {
   "cell_type": "code",
   "execution_count": null,
   "metadata": {},
   "outputs": [],
   "source": [
    "# Calculate the first quartile (Q1)\n",
    "Q1 = Km_filtered_dataset['modelYear'].quantile(0.25)\n",
    "\n",
    "# Calculate the third quartile (Q3)\n",
    "Q3 = Km_filtered_dataset['modelYear'].quantile(0.75)\n",
    "\n",
    "# Calculate the interquartile range (IQR)\n",
    "IQR = Q3 - Q1\n",
    "\n",
    "# Define the lower bound (Q1 - 1.5 * IQR)\n",
    "lower_bound = Q1 - 1.5 * IQR\n",
    "\n",
    "# Define the upper bound (Q3 + 1.5 * IQR)\n",
    "upper_bound = Q3 + 1.5 * IQR\n",
    "\n",
    "# Drop rows with 'modelYear' values outside the lower and upper bounds\n",
    "Km_filtered_dataset = Km_filtered_dataset[(Km_filtered_dataset['modelYear'] >= lower_bound) & (Km_filtered_dataset['modelYear'] <= upper_bound)]\n"
   ]
  },
  {
   "cell_type": "code",
   "execution_count": null,
   "metadata": {},
   "outputs": [],
   "source": [
    "# Plotting the distribution of model years using a bar plot\n",
    "plt.figure(figsize=(10, 6))\n",
    "sns.barplot(x=Km_filtered_dataset['modelYear'].value_counts().index,\n",
    "            y=Km_filtered_dataset['modelYear'].value_counts().values,\n",
    "            color='skyblue')  # Specify a valid color here\n",
    "plt.title('Distribution of Model Year')\n",
    "plt.xlabel('Model Year')\n",
    "plt.ylabel('Frequency')\n",
    "plt.xticks(rotation=45)  # Rotate x-axis labels for better readability\n",
    "plt.tight_layout()\n",
    "plt.show()\n"
   ]
  },
  {
   "cell_type": "markdown",
   "metadata": {},
   "source": [
    "****\n",
    "**`Column : CentralVariantID`**"
   ]
  },
  {
   "cell_type": "code",
   "execution_count": null,
   "metadata": {},
   "outputs": [],
   "source": [
    "len(Km_filtered_dataset['centralVariantId'].unique())"
   ]
  },
  {
   "cell_type": "code",
   "execution_count": null,
   "metadata": {},
   "outputs": [],
   "source": [
    "Km_filtered_dataset['centralVariantId'].value_counts()"
   ]
  },
  {
   "cell_type": "markdown",
   "metadata": {},
   "source": [
    "- VariantId may be different for the same model.So i am going to leave it."
   ]
  },
  {
   "cell_type": "code",
   "execution_count": null,
   "metadata": {},
   "outputs": [],
   "source": [
    "Km_filtered_dataset.drop(columns = ['centralVariantId'], inplace=True)"
   ]
  },
  {
   "cell_type": "markdown",
   "metadata": {},
   "source": [
    "****\n",
    "**`Column : price`**\n",
    "- This column is my target feature. I am going to find its correlation with others "
   ]
  },
  {
   "cell_type": "code",
   "execution_count": null,
   "metadata": {},
   "outputs": [],
   "source": [
    "Km_filtered_dataset['price'].value_counts()"
   ]
  },
  {
   "cell_type": "code",
   "execution_count": null,
   "metadata": {},
   "outputs": [],
   "source": [
    "# Set the style of the plot\n",
    "sns.set_style(\"whitegrid\")\n",
    "\n",
    "# Plot kernel density estimation (KDE) plot for the 'price' column\n",
    "plt.figure(figsize=(8, 6))\n",
    "sns.kdeplot(Km_filtered_dataset['price'], color='skyblue', shade=True)\n",
    "plt.title('Distribution of price')\n",
    "plt.xlabel('price')\n",
    "plt.ylabel('Density')\n",
    "plt.grid(True)\n",
    "plt.show()"
   ]
  },
  {
   "cell_type": "code",
   "execution_count": null,
   "metadata": {},
   "outputs": [],
   "source": [
    "# Compute summary statistics\n",
    "price_summary = Km_filtered_dataset['price'].describe()\n",
    "price_summary"
   ]
  },
  {
   "cell_type": "code",
   "execution_count": null,
   "metadata": {},
   "outputs": [],
   "source": [
    "numeric_columns = Km_filtered_dataset.select_dtypes(include='number')\n",
    "correlation_matrix = numeric_columns.corr()\n",
    "\n",
    "# Plot the heatmap\n",
    "plt.figure(figsize=(10, 8))\n",
    "sns.heatmap(correlation_matrix, annot=True, cmap='coolwarm', fmt=\".2f\", linewidths=0.5)\n",
    "plt.title('Correlation Matrix')\n",
    "plt.show()"
   ]
  },
  {
   "cell_type": "markdown",
   "metadata": {},
   "source": [
    "- **Corelation B/W No Of Doors and price is 0.00**\n",
    "- So i am going to leave that feature."
   ]
  },
  {
   "cell_type": "code",
   "execution_count": null,
   "metadata": {},
   "outputs": [],
   "source": [
    "Km_filtered_dataset.drop(columns=['No Of Doors'], inplace=True)"
   ]
  },
  {
   "cell_type": "markdown",
   "metadata": {},
   "source": [
    "- **Removing Outliers**"
   ]
  },
  {
   "cell_type": "code",
   "execution_count": null,
   "metadata": {},
   "outputs": [],
   "source": [
    "# Calculate the first quartile (Q1)\n",
    "Q1 = Km_filtered_dataset['price'].quantile(0.25)\n",
    "\n",
    "# Calculate the third quartile (Q3)\n",
    "Q3 = Km_filtered_dataset['price'].quantile(0.75)\n",
    "\n",
    "# Calculate the interquartile range (IQR)\n",
    "IQR = Q3 - Q1\n",
    "\n",
    "# Define the lower bound (Q1 - 1.5 * IQR)\n",
    "lower_bound = Q1 - 1.5 * IQR\n",
    "\n",
    "# Define the upper bound (Q3 + 1.5 * IQR)\n",
    "upper_bound = Q3 + 1.5 * IQR\n",
    "\n",
    "# Drop rows with 'price' values outside the lower and upper bounds\n",
    "Km_filtered_dataset = Km_filtered_dataset[(Km_filtered_dataset['price'] >= lower_bound) & (Km_filtered_dataset['price'] <= upper_bound)]\n"
   ]
  },
  {
   "cell_type": "code",
   "execution_count": null,
   "metadata": {},
   "outputs": [],
   "source": [
    "# Set the style of the plot\n",
    "sns.set_style(\"whitegrid\")\n",
    "\n",
    "# Plot kernel density estimation (KDE) plot for the 'price' column\n",
    "plt.figure(figsize=(8, 6))\n",
    "sns.kdeplot(Km_filtered_dataset['price'], color='blue', shade=True)\n",
    "plt.title('Distribution of price')\n",
    "plt.xlabel('price')\n",
    "plt.ylabel('Density')\n",
    "plt.grid(True)\n",
    "plt.show()"
   ]
  },
  {
   "cell_type": "code",
   "execution_count": null,
   "metadata": {},
   "outputs": [],
   "source": [
    "# Apply Box-Cox transformation\n",
    "transformed_data, price_lamda = stats.boxcox(Km_filtered_dataset['price'])\n",
    "# Assigning the values\n",
    "Km_filtered_dataset['price'] = transformed_data\n",
    "\n",
    "# Open the file in write mode\n",
    "with open('parameters.txt', 'a') as file:\n",
    "    # Write the variable name and its corresponding lambda value\n",
    "    file.write(\"price_lamda = {}\\n\".format(price_lamda))"
   ]
  },
  {
   "cell_type": "code",
   "execution_count": null,
   "metadata": {},
   "outputs": [],
   "source": [
    "# Set the style of the plot\n",
    "sns.set_style(\"whitegrid\")\n",
    "\n",
    "# Plot kernel density estimation (KDE) plot for the 'price' column\n",
    "plt.figure(figsize=(8, 6))\n",
    "sns.kdeplot(Km_filtered_dataset['price'], color='red', shade=True)\n",
    "plt.title('Distribution of price')\n",
    "plt.xlabel('price')\n",
    "plt.ylabel('Density')\n",
    "plt.grid(True)\n",
    "plt.show()"
   ]
  },
  {
   "cell_type": "markdown",
   "metadata": {},
   "source": [
    "****\n",
    "**`Column : Registration Year`**"
   ]
  },
  {
   "cell_type": "code",
   "execution_count": null,
   "metadata": {},
   "outputs": [],
   "source": [
    "# Plotting the distribution of Registration years using a bar plot\n",
    "plt.figure(figsize=(10, 6))\n",
    "sns.barplot(x=Km_filtered_dataset['Registration Year'].value_counts().index,\n",
    "            y=Km_filtered_dataset['Registration Year'].value_counts().values,\n",
    "            color='skyblue')  # Specify a valid color here\n",
    "plt.title('Distribution of Registration Year')\n",
    "plt.xlabel('Registration Year')\n",
    "plt.ylabel('Frequency')\n",
    "plt.xticks(rotation=45)  # Rotate x-axis labels for better readability\n",
    "plt.tight_layout()  \n",
    "plt.show()\n"
   ]
  },
  {
   "cell_type": "markdown",
   "metadata": {},
   "source": [
    "****\n",
    "**`Column : Seats`**"
   ]
  },
  {
   "cell_type": "code",
   "execution_count": null,
   "metadata": {},
   "outputs": [],
   "source": [
    "Km_filtered_dataset['Seats'].value_counts()"
   ]
  },
  {
   "cell_type": "markdown",
   "metadata": {},
   "source": [
    "- **There is only oneCar with 10 Seats** I am going to remove that."
   ]
  },
  {
   "cell_type": "code",
   "execution_count": null,
   "metadata": {},
   "outputs": [],
   "source": [
    "# Drop rows where 'Seats' column has a value of 10\n",
    "Km_filtered_dataset = Km_filtered_dataset[Km_filtered_dataset['Seats'] != 10]"
   ]
  },
  {
   "cell_type": "code",
   "execution_count": null,
   "metadata": {},
   "outputs": [],
   "source": [
    "# Get the value counts of 'Seats' column and sort by index to get the correct order\n",
    "seat_value_counts = Km_filtered_dataset['Seats'].value_counts().sort_index()\n",
    "\n",
    "# Calculate the maximum frequency value\n",
    "max_freq = seat_value_counts.max()\n",
    "\n",
    "plt.figure(figsize=(15, 6))\n",
    "ax = sns.countplot(x=Km_filtered_dataset['Seats'], color='red', order=seat_value_counts.index)\n",
    "plt.title('Distribution of Seats')\n",
    "plt.xlabel('Seats')\n",
    "plt.ylabel('Frequency')\n",
    "plt.xticks(rotation=45)  # Rotate x-axis labels for better readability\n",
    "\n",
    "# Add frequency values on top of the bars\n",
    "for i, v in enumerate(seat_value_counts.values):\n",
    "    ax.text(i, v + max_freq * 0.01, str(v), ha='center', va='bottom')\n",
    "\n",
    "plt.tight_layout()\n",
    "plt.show()\n"
   ]
  },
  {
   "cell_type": "markdown",
   "metadata": {},
   "source": [
    "****\n",
    "**`Column : Engine Displacement`**"
   ]
  },
  {
   "cell_type": "code",
   "execution_count": null,
   "metadata": {},
   "outputs": [],
   "source": [
    "# Set the style of the plot\n",
    "sns.set_style(\"whitegrid\")\n",
    "\n",
    "# Plot kernel density estimation (KDE) plot for the 'Engine Displacement' column\n",
    "plt.figure(figsize=(8, 6))\n",
    "sns.kdeplot(Km_filtered_dataset['Engine Displacement'], color='skyblue', shade=True)\n",
    "plt.title('Distribution of Engine Displacement')\n",
    "plt.xlabel('Engine Displacement')\n",
    "plt.ylabel('Density')\n",
    "plt.grid(True)\n",
    "plt.show()"
   ]
  },
  {
   "cell_type": "markdown",
   "metadata": {},
   "source": [
    "- **Removing Outliers**"
   ]
  },
  {
   "cell_type": "code",
   "execution_count": null,
   "metadata": {},
   "outputs": [],
   "source": [
    "# Calculate the first quartile (Q1)\n",
    "Q1 = Km_filtered_dataset['Engine Displacement'].quantile(0.25)\n",
    "\n",
    "# Calculate the third quartile (Q3)\n",
    "Q3 = Km_filtered_dataset['Engine Displacement'].quantile(0.75)\n",
    "\n",
    "# Calculate the interquartile range (IQR)\n",
    "IQR = Q3 - Q1\n",
    "\n",
    "# Define the lower bound (Q1 - 1.5 * IQR)\n",
    "lower_bound = Q1 - 1.5 * IQR\n",
    "\n",
    "# Define the upper bound (Q3 + 1.5 * IQR)\n",
    "upper_bound = Q3 + 1.5 * IQR\n",
    "\n",
    "# Drop rows with 'Engine Displacement' values outside the lower and upper bounds\n",
    "Km_filtered_dataset = Km_filtered_dataset[(Km_filtered_dataset['Engine Displacement'] >= lower_bound) & (Km_filtered_dataset['Engine Displacement'] <= upper_bound)]\n"
   ]
  },
  {
   "cell_type": "code",
   "execution_count": null,
   "metadata": {},
   "outputs": [],
   "source": [
    "# Set the style of the plot\n",
    "sns.set_style(\"whitegrid\")\n",
    "\n",
    "# Plot kernel density estimation (KDE) plot for the 'Engine Displacement' column\n",
    "plt.figure(figsize=(8, 6))\n",
    "sns.kdeplot(Km_filtered_dataset['Engine Displacement'], color='red', shade=True)\n",
    "plt.title('Distribution of Engine Displacement')\n",
    "plt.xlabel('Engine Displacement')\n",
    "plt.ylabel('Density')\n",
    "plt.grid(True)\n",
    "plt.show()"
   ]
  },
  {
   "cell_type": "markdown",
   "metadata": {},
   "source": [
    "****\n",
    "**`Column : Year of manufacture`**"
   ]
  },
  {
   "cell_type": "code",
   "execution_count": null,
   "metadata": {},
   "outputs": [],
   "source": [
    "# Get the value counts of 'Year of Manufacture' column and sort by index to get the correct order\n",
    "seat_value_counts = Km_filtered_dataset['Year of Manufacture'].value_counts().sort_index()\n",
    "\n",
    "# Calculate the maximum frequency value\n",
    "max_freq = seat_value_counts.max()\n",
    "\n",
    "plt.figure(figsize=(15, 6))\n",
    "ax = sns.countplot(x=Km_filtered_dataset['Year of Manufacture'], color='Green', order=seat_value_counts.index)\n",
    "plt.title('Distribution of Year of Manufacture')\n",
    "plt.xlabel('Year of Manufacture')\n",
    "plt.ylabel('Frequency')\n",
    "plt.xticks(rotation=45)  # Rotate x-axis labels for better readability\n",
    "\n",
    "# Add frequency values on top of the bars\n",
    "for i, v in enumerate(seat_value_counts.values):\n",
    "    ax.text(i, v + max_freq * 0.01, str(v), ha='center', va='bottom')\n",
    "\n",
    "plt.tight_layout()\n",
    "plt.show()\n"
   ]
  },
  {
   "cell_type": "code",
   "execution_count": null,
   "metadata": {},
   "outputs": [],
   "source": [
    "# Line plot (optional, if 'Year of Manufacture' is continuous)\n",
    "plt.figure(figsize=(10, 6))\n",
    "sns.lineplot(data=Km_filtered_dataset, x='Year of Manufacture', y='price')\n",
    "plt.title('Line Plot of price vs Year of Manufacture')\n",
    "plt.xlabel('Year of Manufacture')\n",
    "plt.ylabel('price')\n",
    "plt.show()\n",
    "\n",
    "# Box plot (optional, if 'Year of Manufacture' is discrete)\n",
    "plt.figure(figsize=(10, 6))\n",
    "sns.boxplot(data=Km_filtered_dataset, x='Year of Manufacture', y='price')\n",
    "plt.title('Box Plot of price by Year of Manufacture')\n",
    "plt.xlabel('Year of Manufacture')\n",
    "plt.ylabel('price')\n",
    "plt.show()"
   ]
  },
  {
   "cell_type": "code",
   "execution_count": null,
   "metadata": {},
   "outputs": [],
   "source": [
    "# Group the data by 'Year of Manufacture'\n",
    "grouped_year = Km_filtered_dataset.groupby('Year of Manufacture')\n",
    "\n",
    "# Function to remove outliers from each group\n",
    "def remove_outliers(group):\n",
    "    Q1 = group['price'].quantile(0.25)\n",
    "    Q3 = group['price'].quantile(0.75)\n",
    "    IQR = Q3 - Q1\n",
    "    lower_bound = Q1 - 1.5 * IQR\n",
    "    upper_bound = Q3 + 1.5 * IQR\n",
    "    return group[(group['price'] >= lower_bound) & (group['price'] <= upper_bound)]\n",
    "\n",
    "# Apply the function to each group and concatenate the results\n",
    "cleaned_data = grouped_year.apply(remove_outliers)\n",
    "\n",
    "# Reset index\n",
    "cleaned_data.reset_index(drop=True, inplace=True)\n"
   ]
  },
  {
   "cell_type": "code",
   "execution_count": null,
   "metadata": {},
   "outputs": [],
   "source": [
    "\n",
    "plt.figure(figsize=(10, 6))\n",
    "sns.boxplot(data=cleaned_data, x='Year of Manufacture', y='price')\n",
    "plt.title('Box Plot of price by Year of Manufacture')\n",
    "plt.xlabel('Year of Manufacture')\n",
    "plt.ylabel('price')\n",
    "plt.show()"
   ]
  },
  {
   "cell_type": "markdown",
   "metadata": {},
   "source": [
    "****\n",
    "**`Column : Mileage`**"
   ]
  },
  {
   "cell_type": "code",
   "execution_count": null,
   "metadata": {},
   "outputs": [],
   "source": [
    "# Set the style of the plot\n",
    "sns.set_style(\"whitegrid\")\n",
    "\n",
    "# Plot kernel density estimation (KDE) plot for the 'Mileage' column\n",
    "plt.figure(figsize=(8, 6))\n",
    "sns.kdeplot(cleaned_data['Mileage'], color='skyblue', shade=True)\n",
    "plt.title('Distribution of Mileage')\n",
    "plt.xlabel('Mileage')\n",
    "plt.ylabel('Density')\n",
    "plt.grid(True)\n",
    "plt.show()"
   ]
  },
  {
   "cell_type": "code",
   "execution_count": null,
   "metadata": {},
   "outputs": [],
   "source": [
    "# Calculate the first quartile (Q1)\n",
    "Q1 = cleaned_data['Mileage'].quantile(0.25)\n",
    "\n",
    "# Calculate the third quartile (Q3)\n",
    "Q3 = cleaned_data['Mileage'].quantile(0.75)\n",
    "\n",
    "# Calculate the interquartile range (IQR)\n",
    "IQR = Q3 - Q1\n",
    "\n",
    "# Define the lower bound (Q1 - 1.5 * IQR)\n",
    "lower_bound = Q1 - 1.5 * IQR\n",
    "\n",
    "# Define the upper bound (Q3 + 1.5 * IQR)\n",
    "upper_bound = Q3 + 1.5 * IQR\n",
    "\n",
    "# Drop rows with 'Mileage' values outside the lower and upper bounds\n",
    "cleaned_data = cleaned_data[(cleaned_data['Mileage'] >= lower_bound) & (cleaned_data['Mileage'] <= upper_bound)]\n"
   ]
  },
  {
   "cell_type": "code",
   "execution_count": null,
   "metadata": {},
   "outputs": [],
   "source": [
    "# Set the style of the plot\n",
    "sns.set_style(\"whitegrid\")\n",
    "\n",
    "# Plot kernel density estimation (KDE) plot for the 'Mileage' column\n",
    "plt.figure(figsize=(8, 6))\n",
    "sns.kdeplot(cleaned_data['Mileage'], color='red', shade=True)\n",
    "plt.title('Distribution of Mileage')\n",
    "plt.xlabel('Mileage')\n",
    "plt.ylabel('Density')\n",
    "plt.grid(True)\n",
    "plt.show()"
   ]
  },
  {
   "cell_type": "markdown",
   "metadata": {},
   "source": [
    "****\n",
    "**`COlumn : Displacement`**\n",
    "- Value of Column Displacement is already covered by Engine Displacement."
   ]
  },
  {
   "cell_type": "code",
   "execution_count": null,
   "metadata": {},
   "outputs": [],
   "source": [
    "cleaned_data.drop(columns = ['Displacement'], inplace=True)"
   ]
  },
  {
   "cell_type": "markdown",
   "metadata": {},
   "source": [
    "****\n",
    "**`Column : Engine`**"
   ]
  },
  {
   "cell_type": "code",
   "execution_count": null,
   "metadata": {},
   "outputs": [],
   "source": [
    "# Get the value counts of 'Engine' column and sort by index to get the correct order\n",
    "seat_value_counts = cleaned_data['Engine'].value_counts().sort_index()\n",
    "\n",
    "# Calculate the maximum frequency value\n",
    "max_freq = seat_value_counts.max()\n",
    "\n",
    "plt.figure(figsize=(15, 6))\n",
    "ax = sns.countplot(x=cleaned_data['Engine'], color='Green', order=seat_value_counts.index)\n",
    "plt.title('Distribution of Engine')\n",
    "plt.xlabel('Engine')\n",
    "plt.ylabel('Frequency')\n",
    "plt.xticks(rotation=45)  # Rotate x-axis labels for better readability\n",
    "\n",
    "# Add frequency values on top of the bars\n",
    "for i, v in enumerate(seat_value_counts.values):\n",
    "    ax.text(i, v + max_freq * 0.01, str(v), ha='center', va='bottom')\n",
    "\n",
    "plt.tight_layout()\n",
    "plt.show()\n"
   ]
  },
  {
   "cell_type": "code",
   "execution_count": null,
   "metadata": {},
   "outputs": [],
   "source": [
    "# Calculate the first quartile (Q1)\n",
    "Q1 = cleaned_data['Engine'].quantile(0.25)\n",
    "\n",
    "# Calculate the third quartile (Q3)\n",
    "Q3 = cleaned_data['Engine'].quantile(0.75)\n",
    "\n",
    "# Calculate the interquartile range (IQR)\n",
    "IQR = Q3 - Q1\n",
    "\n",
    "# Define the lower bound (Q1 - 1.5 * IQR)\n",
    "lower_bound = Q1 - 1.5 * IQR\n",
    "\n",
    "# Define the upper bound (Q3 + 1.5 * IQR)\n",
    "upper_bound = Q3 + 1.5 * IQR\n",
    "\n",
    "# Drop rows with 'Engine' values outside the lower and upper bounds\n",
    "cleaned_data = cleaned_data[(cleaned_data['Engine'] >= lower_bound) & (cleaned_data['Engine'] <= upper_bound)]\n"
   ]
  },
  {
   "cell_type": "code",
   "execution_count": null,
   "metadata": {},
   "outputs": [],
   "source": [
    "# Get the value counts of 'Engine' column and sort by index to get the correct order\n",
    "seat_value_counts = cleaned_data['Engine'].value_counts().sort_index()\n",
    "\n",
    "# Calculate the maximum frequency value\n",
    "max_freq = seat_value_counts.max()\n",
    "\n",
    "plt.figure(figsize=(15, 6))\n",
    "ax = sns.countplot(x=cleaned_data['Engine'], color='Green', order=seat_value_counts.index)\n",
    "plt.title('Distribution of Engine')\n",
    "plt.xlabel('Engine')\n",
    "plt.ylabel('Frequency')\n",
    "plt.xticks(rotation=45)  # Rotate x-axis labels for better readability\n",
    "\n",
    "# Add frequency values on top of the bars\n",
    "for i, v in enumerate(seat_value_counts.values):\n",
    "    ax.text(i, v + max_freq * 0.01, str(v), ha='center', va='bottom')\n",
    "\n",
    "plt.tight_layout()\n",
    "plt.show()"
   ]
  },
  {
   "cell_type": "code",
   "execution_count": null,
   "metadata": {},
   "outputs": [],
   "source": [
    "# Count occurrences of each unique value in 'Engine' column\n",
    "engine_counts = cleaned_data['Engine'].value_counts()\n",
    "\n",
    "# Filter rows where the count is greater than or equal to 5\n",
    "Engine_filtered_data = cleaned_data[cleaned_data['Engine'].isin(engine_counts.index[engine_counts >= 5])]\n"
   ]
  },
  {
   "cell_type": "code",
   "execution_count": null,
   "metadata": {},
   "outputs": [],
   "source": [
    "# Get the value counts of 'Engine' column and sort by index to get the correct order\n",
    "seat_value_counts = Engine_filtered_data['Engine'].value_counts().sort_index()\n",
    "\n",
    "# Calculate the maximum frequency value\n",
    "max_freq = seat_value_counts.max()\n",
    "\n",
    "plt.figure(figsize=(15, 6))\n",
    "ax = sns.countplot(x=Engine_filtered_data['Engine'], color='orange', order=seat_value_counts.index)\n",
    "plt.title('Distribution of Engine')\n",
    "plt.xlabel('Engine')\n",
    "plt.ylabel('Frequency')\n",
    "plt.xticks(rotation=45)  # Rotate x-axis labels for better readability\n",
    "\n",
    "# Add frequency values on top of the bars\n",
    "for i, v in enumerate(seat_value_counts.values):\n",
    "    ax.text(i, v + max_freq * 0.01, str(v), ha='center', va='bottom')\n",
    "\n",
    "plt.tight_layout()\n",
    "plt.show()"
   ]
  },
  {
   "cell_type": "markdown",
   "metadata": {},
   "source": [
    "****\n",
    "**`Column : No of Cylinder`**"
   ]
  },
  {
   "cell_type": "code",
   "execution_count": null,
   "metadata": {},
   "outputs": [],
   "source": [
    "Engine_filtered_data['No of Cylinder'].value_counts()"
   ]
  },
  {
   "cell_type": "code",
   "execution_count": null,
   "metadata": {},
   "outputs": [],
   "source": [
    "# Get the value counts of 'No of Cylinder' column and sort by index to get the correct order\n",
    "seat_value_counts = Engine_filtered_data['No of Cylinder'].value_counts().sort_index()\n",
    "\n",
    "# Calculate the maximum frequency value\n",
    "max_freq = seat_value_counts.max()\n",
    "\n",
    "plt.figure(figsize=(15, 6))\n",
    "ax = sns.countplot(x=Engine_filtered_data['No of Cylinder'], color='red', order=seat_value_counts.index)\n",
    "plt.title('Distribution of Engine')\n",
    "plt.xlabel('No of Cylinder')\n",
    "plt.ylabel('Frequency')\n",
    "plt.xticks(rotation=45)  # Rotate x-axis labels for better readability\n",
    "\n",
    "# Add frequency values on top of the bars\n",
    "for i, v in enumerate(seat_value_counts.values):\n",
    "    ax.text(i, v + max_freq * 0.01, str(v), ha='center', va='bottom')\n",
    "\n",
    "plt.tight_layout()\n",
    "plt.show()"
   ]
  },
  {
   "cell_type": "markdown",
   "metadata": {},
   "source": [
    "****\n",
    "**`Column : Valves per cylinder`**"
   ]
  },
  {
   "cell_type": "code",
   "execution_count": null,
   "metadata": {},
   "outputs": [],
   "source": [
    "# Rename the column\n",
    "Engine_filtered_data.rename(columns={'Values per Cylinder': 'Valves per Cylinder'}, inplace=True)"
   ]
  },
  {
   "cell_type": "code",
   "execution_count": null,
   "metadata": {},
   "outputs": [],
   "source": [
    "# Get the value counts of 'Valves per Cylinder' column and sort by index to get the correct order\n",
    "seat_value_counts = Engine_filtered_data['Valves per Cylinder'].value_counts().sort_index()\n",
    "\n",
    "# Calculate the maximum frequency value\n",
    "max_freq = seat_value_counts.max()\n",
    "\n",
    "plt.figure(figsize=(15, 6))\n",
    "ax = sns.countplot(x=Engine_filtered_data['Valves per Cylinder'], color='Green', order=seat_value_counts.index)\n",
    "plt.title('Distribution of Engine')\n",
    "plt.xlabel('Valves per Cylinder')\n",
    "plt.ylabel('Frequency')\n",
    "plt.xticks(rotation=45)  # Rotate x-axis labels for better readability\n",
    "\n",
    "# Add frequency values on top of the bars\n",
    "for i, v in enumerate(seat_value_counts.values):\n",
    "    ax.text(i, v + max_freq * 0.01, str(v), ha='center', va='bottom')\n",
    "\n",
    "plt.tight_layout()\n",
    "plt.show()"
   ]
  },
  {
   "cell_type": "code",
   "execution_count": null,
   "metadata": {},
   "outputs": [],
   "source": [
    "# Set the style of the plot\n",
    "sns.set_style(\"whitegrid\")\n",
    "\n",
    "# Plot kernel density estimation (KDE) plot for the 'Max Power(bhp)' column\n",
    "plt.figure(figsize=(8, 6))\n",
    "sns.kdeplot(Engine_filtered_data['Max Power(bhp)'], color='skyblue', shade=True)\n",
    "plt.title('Distribution of Max Power(bhp)')\n",
    "plt.xlabel('Max Power(bhp)')\n",
    "plt.ylabel('Density')\n",
    "plt.grid(True)\n",
    "plt.show()"
   ]
  },
  {
   "cell_type": "code",
   "execution_count": null,
   "metadata": {},
   "outputs": [],
   "source": [
    "# Set the style of the plot\n",
    "sns.set_style(\"whitegrid\")\n",
    "\n",
    "# Plot kernel density estimation (KDE) plot for the 'Max Torque(Nm)' column\n",
    "plt.figure(figsize=(8, 6))\n",
    "sns.kdeplot(Engine_filtered_data['Max Torque(Nm)'], color='skyblue', shade=True)\n",
    "plt.title('Distribution of Max Torque(Nm)')\n",
    "plt.xlabel('Max Torque(Nm)')\n",
    "plt.ylabel('Density')\n",
    "plt.grid(True)\n",
    "plt.show()"
   ]
  },
  {
   "cell_type": "markdown",
   "metadata": {},
   "source": [
    "- **Outlier Removal**"
   ]
  },
  {
   "cell_type": "code",
   "execution_count": null,
   "metadata": {},
   "outputs": [],
   "source": [
    "# Calculate the first quartile (Q1)\n",
    "Q1 = Engine_filtered_data['Max Torque(Nm)'].quantile(0.25)\n",
    "\n",
    "# Calculate the third quartile (Q3)\n",
    "Q3 = Engine_filtered_data['Max Torque(Nm)'].quantile(0.75)\n",
    "\n",
    "# Calculate the interquartile range (IQR)\n",
    "IQR = Q3 - Q1\n",
    "\n",
    "# Define the lower bound (Q1 - 1.5 * IQR)\n",
    "lower_bound = Q1 - 1.5 * IQR\n",
    "\n",
    "# Define the upper bound (Q3 + 1.5 * IQR)\n",
    "upper_bound = Q3 + 1.5 * IQR\n",
    "\n",
    "# Drop rows with 'Max Torque(Nm)' values outside the lower and upper bounds\n",
    "Torque_filtered_data = Engine_filtered_data[(Engine_filtered_data['Max Torque(Nm)'] >= lower_bound) & (Engine_filtered_data['Max Torque(Nm)'] <= upper_bound)]\n"
   ]
  },
  {
   "cell_type": "code",
   "execution_count": null,
   "metadata": {},
   "outputs": [],
   "source": [
    "# Set the style of the plot\n",
    "sns.set_style(\"whitegrid\")\n",
    "\n",
    "# Plot kernel density estimation (KDE) plot for the 'Max Torque(Nm)' column\n",
    "plt.figure(figsize=(8, 6))\n",
    "sns.kdeplot(Torque_filtered_data['Max Torque(Nm)'], color='red', shade=True)\n",
    "plt.title('Distribution of Max Torque(Nm)')\n",
    "plt.xlabel('Max Torque(Nm)')\n",
    "plt.ylabel('Density')\n",
    "plt.grid(True)\n",
    "plt.show()"
   ]
  },
  {
   "cell_type": "code",
   "execution_count": null,
   "metadata": {},
   "outputs": [],
   "source": [
    "Torque_filtered_data.to_csv('data_for_model.csv',index = False)"
   ]
  },
  {
   "cell_type": "code",
   "execution_count": null,
   "metadata": {},
   "outputs": [],
   "source": [
    "Torque_filtered_data.columns"
   ]
  }
 ],
 "metadata": {
  "kernelspec": {
   "display_name": "carevaluation",
   "language": "python",
   "name": "python3"
  },
  "language_info": {
   "codemirror_mode": {
    "name": "ipython",
    "version": 3
   },
   "file_extension": ".py",
   "mimetype": "text/x-python",
   "name": "python",
   "nbconvert_exporter": "python",
   "pygments_lexer": "ipython3",
   "version": "3.12.0 (tags/v3.12.0:0fb18b0, Oct  2 2023, 13:03:39) [MSC v.1935 64 bit (AMD64)]"
  },
  "orig_nbformat": 4,
  "vscode": {
   "interpreter": {
    "hash": "f7b87215a06799a706f2c55e3ec56f1ba2136516e8887b63635b5020966fbcdc"
   }
  }
 },
 "nbformat": 4,
 "nbformat_minor": 2
}
